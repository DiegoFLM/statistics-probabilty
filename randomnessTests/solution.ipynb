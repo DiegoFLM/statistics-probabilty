{
 "cells": [
  {
   "cell_type": "code",
   "execution_count": 47,
   "metadata": {},
   "outputs": [],
   "source": [
    "import numpy as np\n",
    "import matplotlib.pyplot as plt\n",
    "import seaborn as sns\n",
    "from scipy import stats"
   ]
  },
  {
   "cell_type": "code",
   "execution_count": 48,
   "metadata": {},
   "outputs": [
    {
     "data": {
      "text/plain": [
       "40"
      ]
     },
     "execution_count": 48,
     "metadata": {},
     "output_type": "execute_result"
    }
   ],
   "source": [
    "data = np.array([\n",
    "    0.74, 0.58, 0.15, 0.47, 0.72, 0.18, 0.46, 0.57,\n",
    "    0.81, 0.98, 0.42, 0.31, 0.24, 0.17, 0.95, 0.69,\n",
    "    0.53, 0.93, 0.01, 0.36, 0.88, 0.01, 0.37, 0.73,\n",
    "    0.62, 0.66, 0.37, 0.67, 0.60, 0.13, 0.14, 0.13,\n",
    "    0.12, 0.56, 0.56, 0.41, 0.46, 0.32, 0.36, 0.98 \n",
    "])\n",
    "data.size"
   ]
  },
  {
   "cell_type": "code",
   "execution_count": 49,
   "metadata": {},
   "outputs": [
    {
     "name": "stderr",
     "output_type": "stream",
     "text": [
      "/home/diegoflm/anaconda3/lib/python3.9/site-packages/seaborn/distributions.py:2619: FutureWarning: `distplot` is a deprecated function and will be removed in a future version. Please adapt your code to use either `displot` (a figure-level function with similar flexibility) or `histplot` (an axes-level function for histograms).\n",
      "  warnings.warn(msg, FutureWarning)\n"
     ]
    },
    {
     "data": {
      "image/png": "[encoded data removed]",
      "text/plain": [
       "<Figure size 432x288 with 1 Axes>"
      ]
     },
     "metadata": {
      "needs_background": "light"
     },
     "output_type": "display_data"
    }
   ],
   "source": [
    "a = sns.distplot(data, kde=True, fit=stats.norm)"
   ]
  },
  {
   "cell_type": "markdown",
   "metadata": {},
   "source": [
    "# Congruential Random Generator "
   ]
  },
  {
   "cell_type": "code",
   "execution_count": 50,
   "metadata": {},
   "outputs": [],
   "source": [
    "import numpy as np\n",
    "import scipy as sp\n"
   ]
  },
  {
   "cell_type": "code",
   "execution_count": 51,
   "metadata": {},
   "outputs": [],
   "source": [
    "\n",
    "def genran(a,b,m,prevX):\n",
    "    xsig = (a*prevX + b) % m    # Integer pseudo-random number in [0,m-1]\n",
    "    usig = xsig / m             # Uniform pseudo-random number in [0,1)\n",
    "    return np.array([xsig,usig])\n",
    "\n",
    "def genranN(a,b,m,x0,N):\n",
    "    prevX = x0\n",
    "    I=np.array([])#, dtype=int)\n",
    "    X=np.array([])#, dtype=int)\n",
    "    U=np.array([])#, dtype=int)\n",
    "    for t in range(1, N+1):\n",
    "        [xi,ui] = genran(a,b,m,prevX)\n",
    "        #I.append(t)\n",
    "        I = np.append(I,t)\n",
    "        #X.append(xi)\n",
    "        X = np.append(X,xi)\n",
    "        #U.append(ui)\n",
    "        U = np.append(U,ui)\n",
    "        prevX = xi\n",
    "    return np.array([I,X,U])#, dtype=int)\n",
    "\n",
    "def showValues(I,X,U):\n",
    "    print(\"i\\tXi\\tUi\")\n",
    "    for t in range(0, len(X)):\n",
    "        print(\"%d\\t%d\\t%2.4f\" % (I[t],X[t],U[t]), sep=' ', end='\\n')\n",
    "\n"
   ]
  },
  {
   "cell_type": "code",
   "execution_count": 52,
   "metadata": {},
   "outputs": [
    {
     "name": "stdout",
     "output_type": "stream",
     "text": [
      "i\tXi\tUi\n",
      "1\t9\t0.0989\n",
      "2\t12\t0.1319\n",
      "3\t45\t0.4945\n",
      "4\t44\t0.4835\n",
      "5\t33\t0.3626\n",
      "6\t3\t0.0330\n",
      "7\t37\t0.4066\n",
      "8\t47\t0.5165\n",
      "9\t66\t0.7253\n",
      "10\t2\t0.0220\n",
      "11\t26\t0.2857\n",
      "12\t17\t0.1868\n",
      "13\t9\t0.0989\n",
      "14\t12\t0.1319\n",
      "15\t45\t0.4945\n",
      "16\t44\t0.4835\n",
      "17\t33\t0.3626\n",
      "18\t3\t0.0330\n",
      "19\t37\t0.4066\n",
      "20\t47\t0.5165\n",
      "21\t66\t0.7253\n",
      "22\t2\t0.0220\n",
      "23\t26\t0.2857\n",
      "24\t17\t0.1868\n",
      "25\t9\t0.0989\n",
      "26\t12\t0.1319\n",
      "27\t45\t0.4945\n",
      "28\t44\t0.4835\n",
      "29\t33\t0.3626\n",
      "30\t3\t0.0330\n",
      "31\t37\t0.4066\n",
      "32\t47\t0.5165\n",
      "33\t66\t0.7253\n",
      "34\t2\t0.0220\n",
      "35\t26\t0.2857\n",
      "36\t17\t0.1868\n",
      "37\t9\t0.0989\n",
      "38\t12\t0.1319\n",
      "39\t45\t0.4945\n",
      "40\t44\t0.4835\n",
      "41\t33\t0.3626\n",
      "42\t3\t0.0330\n",
      "43\t37\t0.4066\n",
      "44\t47\t0.5165\n",
      "45\t66\t0.7253\n",
      "46\t2\t0.0220\n",
      "47\t26\t0.2857\n",
      "48\t17\t0.1868\n",
      "49\t9\t0.0989\n",
      "50\t12\t0.1319\n",
      "51\t45\t0.4945\n",
      "52\t44\t0.4835\n",
      "53\t33\t0.3626\n",
      "54\t3\t0.0330\n",
      "55\t37\t0.4066\n",
      "56\t47\t0.5165\n",
      "57\t66\t0.7253\n",
      "58\t2\t0.0220\n",
      "59\t26\t0.2857\n",
      "60\t17\t0.1868\n",
      "61\t9\t0.0989\n",
      "62\t12\t0.1319\n",
      "63\t45\t0.4945\n",
      "64\t44\t0.4835\n",
      "65\t33\t0.3626\n",
      "66\t3\t0.0330\n",
      "67\t37\t0.4066\n",
      "68\t47\t0.5165\n",
      "69\t66\t0.7253\n",
      "70\t2\t0.0220\n",
      "71\t26\t0.2857\n",
      "72\t17\t0.1868\n",
      "73\t9\t0.0989\n",
      "74\t12\t0.1319\n",
      "75\t45\t0.4945\n",
      "76\t44\t0.4835\n",
      "77\t33\t0.3626\n",
      "78\t3\t0.0330\n",
      "79\t37\t0.4066\n",
      "80\t47\t0.5165\n",
      "81\t66\t0.7253\n",
      "82\t2\t0.0220\n",
      "83\t26\t0.2857\n",
      "84\t17\t0.1868\n",
      "85\t9\t0.0989\n",
      "86\t12\t0.1319\n",
      "87\t45\t0.4945\n",
      "88\t44\t0.4835\n",
      "89\t33\t0.3626\n",
      "90\t3\t0.0330\n",
      "91\t37\t0.4066\n",
      "92\t47\t0.5165\n",
      "93\t66\t0.7253\n",
      "94\t2\t0.0220\n",
      "95\t26\t0.2857\n",
      "96\t17\t0.1868\n",
      "97\t9\t0.0989\n",
      "98\t12\t0.1319\n",
      "99\t45\t0.4945\n",
      "100\t44\t0.4835\n"
     ]
    }
   ],
   "source": [
    "a = 11\n",
    "b = 4\n",
    "m = 91\n",
    "x0 = 17\n",
    "N = 100\n",
    "[I, X, U] = genranN(a,b,m,x0,N)\n",
    "showValues(I,X,U)"
   ]
  },
  {
   "cell_type": "code",
   "execution_count": 53,
   "metadata": {},
   "outputs": [
    {
     "name": "stdout",
     "output_type": "stream",
     "text": [
      "i\tXi\tUi\n",
      "1\t184\t0.6790\n",
      "2\t119\t0.4391\n",
      "3\t27\t0.0996\n",
      "4\t247\t0.9114\n",
      "5\t204\t0.7528\n",
      "6\t189\t0.6974\n",
      "7\t1\t0.0037\n",
      "8\t156\t0.5756\n",
      "9\t21\t0.0775\n",
      "10\t226\t0.8339\n",
      "11\t266\t0.9815\n",
      "12\t135\t0.4982\n",
      "13\t83\t0.3063\n",
      "14\t172\t0.6347\n",
      "15\t77\t0.2841\n",
      "16\t151\t0.5572\n",
      "17\t139\t0.5129\n",
      "18\t97\t0.3579\n",
      "19\t221\t0.8155\n",
      "20\t113\t0.4170\n",
      "21\t6\t0.0221\n",
      "22\t38\t0.1402\n",
      "23\t150\t0.5535\n",
      "24\t0\t0.0000\n",
      "25\t17\t0.0627\n",
      "26\t212\t0.7823\n",
      "27\t217\t0.8007\n",
      "28\t99\t0.3653\n",
      "29\t228\t0.8413\n",
      "30\t2\t0.0074\n",
      "31\t24\t0.0886\n",
      "32\t101\t0.3727\n",
      "33\t235\t0.8672\n",
      "34\t162\t0.5978\n",
      "35\t42\t0.1550\n",
      "36\t164\t0.6052\n",
      "37\t49\t0.1808\n",
      "38\t53\t0.1956\n",
      "39\t67\t0.2472\n",
      "40\t116\t0.4280\n",
      "41\t152\t0.5609\n",
      "42\t7\t0.0258\n",
      "43\t177\t0.6531\n",
      "44\t230\t0.8487\n",
      "45\t9\t0.0332\n",
      "46\t184\t0.6790\n",
      "47\t119\t0.4391\n",
      "48\t27\t0.0996\n",
      "49\t247\t0.9114\n",
      "50\t204\t0.7528\n",
      "51\t189\t0.6974\n",
      "52\t1\t0.0037\n",
      "53\t156\t0.5756\n",
      "54\t21\t0.0775\n",
      "55\t226\t0.8339\n",
      "56\t266\t0.9815\n",
      "57\t135\t0.4982\n",
      "58\t83\t0.3063\n",
      "59\t172\t0.6347\n",
      "60\t77\t0.2841\n",
      "61\t151\t0.5572\n",
      "62\t139\t0.5129\n",
      "63\t97\t0.3579\n",
      "64\t221\t0.8155\n",
      "65\t113\t0.4170\n",
      "66\t6\t0.0221\n",
      "67\t38\t0.1402\n",
      "68\t150\t0.5535\n",
      "69\t0\t0.0000\n",
      "70\t17\t0.0627\n",
      "71\t212\t0.7823\n",
      "72\t217\t0.8007\n",
      "73\t99\t0.3653\n",
      "74\t228\t0.8413\n",
      "75\t2\t0.0074\n",
      "76\t24\t0.0886\n",
      "77\t101\t0.3727\n",
      "78\t235\t0.8672\n",
      "79\t162\t0.5978\n",
      "80\t42\t0.1550\n",
      "81\t164\t0.6052\n",
      "82\t49\t0.1808\n",
      "83\t53\t0.1956\n",
      "84\t67\t0.2472\n",
      "85\t116\t0.4280\n",
      "86\t152\t0.5609\n",
      "87\t7\t0.0258\n",
      "88\t177\t0.6531\n",
      "89\t230\t0.8487\n",
      "90\t9\t0.0332\n",
      "91\t184\t0.6790\n",
      "92\t119\t0.4391\n",
      "93\t27\t0.0996\n",
      "94\t247\t0.9114\n",
      "95\t204\t0.7528\n",
      "96\t189\t0.6974\n",
      "97\t1\t0.0037\n",
      "98\t156\t0.5756\n",
      "99\t21\t0.0775\n",
      "100\t226\t0.8339\n"
     ]
    }
   ],
   "source": [
    "a = 139\n",
    "b = 17\n",
    "m = 271\n",
    "x0 = 9\n",
    "N = 100\n",
    "[I, X, U] = genranN(a,b,m,x0,N)\n",
    "showValues(I,X,U)"
   ]
  },
  {
   "cell_type": "markdown",
   "metadata": {},
   "source": [
    "# Inverse Transform"
   ]
  },
  {
   "cell_type": "code",
   "execution_count": 54,
   "metadata": {},
   "outputs": [],
   "source": [
    "import numpy as np\n",
    "from scipy.stats import uniform, expon\n",
    "import matplotlib.pyplot as plt"
   ]
  },
  {
   "cell_type": "markdown",
   "metadata": {},
   "source": [
    "## Continous variable"
   ]
  },
  {
   "cell_type": "code",
   "execution_count": 55,
   "metadata": {},
   "outputs": [],
   "source": [
    "### Generate exponential distributed random variables given the mean \n",
    "### and number of random variables\n",
    "def exponential_inverse_trans(n=1,mean=1):\n",
    "    U=sp.stats.uniform.rvs(size=n)\n",
    "    X=-mean*np.log(1-U)\n",
    "    actual=sp.stats.expon.rvs(size=n,scale=mean)\n",
    "    \n",
    "    # plt.figure(figsize=(12,9))\n",
    "    # plt.hist(X, bins=50, alpha=0.5, label=\"Generated r.v.\")\n",
    "    # plt.hist(actual, bins=50, alpha=0.5, label=\"Actual r.v.\")\n",
    "    # plt.title(\"Generated vs Actual %i Exponential Random Variables\" %n)\n",
    "    # plt.legend()\n",
    "    # plt.show()\n",
    "    return X"
   ]
  },
  {
   "cell_type": "code",
   "execution_count": 56,
   "metadata": {},
   "outputs": [],
   "source": [
    "cont_example1=exponential_inverse_trans(n=100,mean=4)\n",
    "cont_example2=exponential_inverse_trans(n=500,mean=4)\n",
    "cont_example3=exponential_inverse_trans(n=1000,mean=4)"
   ]
  },
  {
   "cell_type": "code",
   "execution_count": 57,
   "metadata": {},
   "outputs": [
    {
     "data": {
      "text/plain": [
       "array([3.84520216e+00, 8.27895288e+00, 1.58220740e+00, 2.97127525e+00,\n",
       "       2.71537327e+00, 2.74635347e+00, 2.15961569e+01, 3.92289365e+00,\n",
       "       1.21468214e+01, 4.34873516e-01, 2.80227079e+00, 1.47725487e+01,\n",
       "       5.11451850e+00, 7.51645546e+00, 5.97861455e+00, 4.06049060e+00,\n",
       "       8.46741235e+00, 4.53515241e+00, 1.62054693e-01, 3.57850133e+00,\n",
       "       6.02075374e+00, 2.95782603e+00, 1.12128686e-01, 2.45568054e-01,\n",
       "       2.28331008e-01, 4.76347964e+00, 1.08756568e+01, 5.39667208e-02,\n",
       "       1.02349869e+01, 3.47752513e+00, 9.03849933e-01, 7.20757898e+00,\n",
       "       3.25049400e+00, 2.82793375e-01, 1.99016537e+00, 8.83766185e+00,\n",
       "       6.15600605e+00, 1.22796606e+00, 4.08558466e+00, 9.50577484e+00,\n",
       "       9.41461969e+00, 1.34955847e-01, 2.79532832e-01, 6.63257916e+00,\n",
       "       4.17184864e+00, 2.62317379e+00, 6.90827021e+00, 2.73674989e+00,\n",
       "       2.42528824e+00, 1.43118286e+00, 4.50846963e+00, 2.06011005e-01,\n",
       "       1.08754221e+00, 2.59872680e-01, 7.13678340e+00, 2.72598643e+00,\n",
       "       1.92832628e+00, 6.02237491e+00, 1.08826592e+00, 5.01883839e-01,\n",
       "       1.71650235e+00, 4.68087180e+00, 1.40018238e+00, 2.89583328e-01,\n",
       "       5.29749583e+00, 1.98653790e+01, 3.46578358e-01, 3.99958970e+00,\n",
       "       4.65603625e+00, 1.29315454e+01, 5.72694451e+00, 1.15739564e-02,\n",
       "       1.00212744e+01, 6.40758153e-01, 9.78411384e+00, 1.70478808e+00,\n",
       "       9.99795509e+00, 9.70973908e-01, 1.69272438e+00, 5.09792316e+00,\n",
       "       6.42945450e-02, 9.55838585e-01, 2.62139523e+00, 6.51362743e+00,\n",
       "       4.21834146e+00, 7.18810409e+00, 6.93489573e+00, 3.02044273e+00,\n",
       "       1.21533216e+01, 6.89669837e+00, 5.68926045e-01, 5.53775659e-01,\n",
       "       6.60254918e+00, 2.92869900e+00, 1.32416294e+00, 3.66929647e+00,\n",
       "       5.84502648e-01, 1.73662491e+00, 2.95727524e+00, 1.89422525e+00])"
      ]
     },
     "execution_count": 57,
     "metadata": {},
     "output_type": "execute_result"
    }
   ],
   "source": [
    "exponential_inverse_trans(n=100,mean=4)"
   ]
  },
  {
   "cell_type": "markdown",
   "metadata": {},
   "source": [
    "## Discrete variable"
   ]
  },
  {
   "cell_type": "markdown",
   "metadata": {},
   "source": [
    "### cumulative probability"
   ]
  },
  {
   "cell_type": "code",
   "execution_count": 59,
   "metadata": {},
   "outputs": [
    {
     "data": {
      "text/plain": [
       "array([0.74, 0.58, 0.15, 0.47, 0.72, 0.18, 0.46, 0.57, 0.81, 0.98, 0.42,\n",
       "       0.31, 0.24, 0.17, 0.95, 0.69, 0.53, 0.93, 0.01, 0.36, 0.88, 0.01,\n",
       "       0.37, 0.73, 0.62, 0.66, 0.37, 0.67, 0.6 , 0.13, 0.14, 0.13, 0.12,\n",
       "       0.56, 0.56, 0.41, 0.46, 0.32, 0.36, 0.98])"
      ]
     },
     "execution_count": 59,
     "metadata": {},
     "output_type": "execute_result"
    }
   ],
   "source": [
    "data"
   ]
  },
  {
   "cell_type": "code",
   "execution_count": 60,
   "metadata": {},
   "outputs": [
    {
     "data": {
      "text/plain": [
       "array([0.01, 0.01, 0.12, 0.13, 0.13, 0.14, 0.15, 0.17, 0.18, 0.24, 0.31,\n",
       "       0.32, 0.36, 0.36, 0.37, 0.37, 0.41, 0.42, 0.46, 0.46, 0.47, 0.53,\n",
       "       0.56, 0.56, 0.57, 0.58, 0.6 , 0.62, 0.66, 0.67, 0.69, 0.72, 0.73,\n",
       "       0.74, 0.81, 0.88, 0.93, 0.95, 0.98, 0.98])"
      ]
     },
     "execution_count": 60,
     "metadata": {},
     "output_type": "execute_result"
    }
   ],
   "source": [
    "sortedData = data.copy()\n",
    "sortedData.sort()\n",
    "sortedData"
   ]
  },
  {
   "cell_type": "code",
   "execution_count": 61,
   "metadata": {},
   "outputs": [
    {
     "data": {
      "text/plain": [
       "array([0.01, 0.12, 0.13, 0.14, 0.15, 0.17, 0.18, 0.24, 0.31, 0.32, 0.36,\n",
       "       0.37, 0.41, 0.42, 0.46, 0.47, 0.53, 0.56, 0.57, 0.58, 0.6 , 0.62,\n",
       "       0.66, 0.67, 0.69, 0.72, 0.73, 0.74, 0.81, 0.88, 0.93, 0.95, 0.98])"
      ]
     },
     "execution_count": 61,
     "metadata": {},
     "output_type": "execute_result"
    }
   ],
   "source": [
    "uniques, counts = np.unique(sortedData, return_counts=True)\n",
    "uniques"
   ]
  },
  {
   "cell_type": "code",
   "execution_count": 62,
   "metadata": {},
   "outputs": [
    {
     "data": {
      "text/plain": [
       "array([2, 1, 2, 1, 1, 1, 1, 1, 1, 1, 2, 2, 1, 1, 2, 1, 1, 2, 1, 1, 1, 1,\n",
       "       1, 1, 1, 1, 1, 1, 1, 1, 1, 1, 2])"
      ]
     },
     "execution_count": 62,
     "metadata": {},
     "output_type": "execute_result"
    }
   ],
   "source": [
    "counts"
   ]
  },
  {
   "cell_type": "code",
   "execution_count": 63,
   "metadata": {},
   "outputs": [],
   "source": [
    "def getCumulativeProbDist(data):\n",
    "    sortedData = data.copy()\n",
    "    sortedData.sort()\n",
    "    uniques, counts = np.unique(sortedData, return_counts=True)\n",
    "    cumProbability = np.array([uniques, counts.cumsum() / data.size]).T\n",
    "    return cumProbability"
   ]
  },
  {
   "cell_type": "code",
   "execution_count": 64,
   "metadata": {},
   "outputs": [
    {
     "data": {
      "text/plain": [
       "array([[0.01 , 0.05 ],\n",
       "       [0.12 , 0.075],\n",
       "       [0.13 , 0.125],\n",
       "       [0.14 , 0.15 ],\n",
       "       [0.15 , 0.175],\n",
       "       [0.17 , 0.2  ],\n",
       "       [0.18 , 0.225],\n",
       "       [0.24 , 0.25 ],\n",
       "       [0.31 , 0.275],\n",
       "       [0.32 , 0.3  ],\n",
       "       [0.36 , 0.35 ],\n",
       "       [0.37 , 0.4  ],\n",
       "       [0.41 , 0.425],\n",
       "       [0.42 , 0.45 ],\n",
       "       [0.46 , 0.5  ],\n",
       "       [0.47 , 0.525],\n",
       "       [0.53 , 0.55 ],\n",
       "       [0.56 , 0.6  ],\n",
       "       [0.57 , 0.625],\n",
       "       [0.58 , 0.65 ],\n",
       "       [0.6  , 0.675],\n",
       "       [0.62 , 0.7  ],\n",
       "       [0.66 , 0.725],\n",
       "       [0.67 , 0.75 ],\n",
       "       [0.69 , 0.775],\n",
       "       [0.72 , 0.8  ],\n",
       "       [0.73 , 0.825],\n",
       "       [0.74 , 0.85 ],\n",
       "       [0.81 , 0.875],\n",
       "       [0.88 , 0.9  ],\n",
       "       [0.93 , 0.925],\n",
       "       [0.95 , 0.95 ],\n",
       "       [0.98 , 1.   ]])"
      ]
     },
     "execution_count": 64,
     "metadata": {},
     "output_type": "execute_result"
    }
   ],
   "source": [
    "cumProbability = getCumulativeProbDist(data)\n",
    "cumProbability"
   ]
  },
  {
   "cell_type": "code",
   "execution_count": 65,
   "metadata": {},
   "outputs": [
    {
     "data": {
      "text/plain": [
       "array([[0.01 , 0.12 , 0.13 , 0.14 , 0.15 , 0.17 , 0.18 , 0.24 , 0.31 ,\n",
       "        0.32 , 0.36 , 0.37 , 0.41 , 0.42 , 0.46 , 0.47 , 0.53 , 0.56 ,\n",
       "        0.57 , 0.58 , 0.6  , 0.62 , 0.66 , 0.67 , 0.69 , 0.72 , 0.73 ,\n",
       "        0.74 , 0.81 , 0.88 , 0.93 , 0.95 , 0.98 ],\n",
       "       [0.05 , 0.075, 0.125, 0.15 , 0.175, 0.2  , 0.225, 0.25 , 0.275,\n",
       "        0.3  , 0.35 , 0.4  , 0.425, 0.45 , 0.5  , 0.525, 0.55 , 0.6  ,\n",
       "        0.625, 0.65 , 0.675, 0.7  , 0.725, 0.75 , 0.775, 0.8  , 0.825,\n",
       "        0.85 , 0.875, 0.9  , 0.925, 0.95 , 1.   ]])"
      ]
     },
     "execution_count": 65,
     "metadata": {},
     "output_type": "execute_result"
    }
   ],
   "source": [
    "cumProbability.T"
   ]
  },
  {
   "cell_type": "code",
   "execution_count": 66,
   "metadata": {},
   "outputs": [],
   "source": [
    "def getCumProb(num, cumProbabilityDist):\n",
    "    for i in range (cumProbabilityDist.shape[0]):\n",
    "        #print(cumProbabilityDist[i][0], cumProbabilityDist[i][1])\n",
    "        if num == cumProbabilityDist[i,0]:\n",
    "            return cumProbabilityDist[i,1]\n",
    "    print(\"Error: number not found in distribution\")\n",
    "    return\n",
    "    "
   ]
  },
  {
   "cell_type": "code",
   "execution_count": 67,
   "metadata": {},
   "outputs": [
    {
     "data": {
      "text/plain": [
       "0.7"
      ]
     },
     "execution_count": 67,
     "metadata": {},
     "output_type": "execute_result"
    }
   ],
   "source": [
    "getCumProb(0.62, cumProbability)"
   ]
  },
  {
   "cell_type": "markdown",
   "metadata": {},
   "source": [
    "### Discrete Distribution"
   ]
  },
  {
   "cell_type": "code",
   "execution_count": 68,
   "metadata": {},
   "outputs": [
    {
     "data": {
      "text/plain": [
       "array([[ 0.  ,  0.1 ],\n",
       "       [ 2.  ,  0.3 ],\n",
       "       [ 3.  ,  0.05],\n",
       "       [ 4.  ,  0.1 ],\n",
       "       [ 7.  ,  0.15],\n",
       "       [ 9.  ,  0.1 ],\n",
       "       [10.  ,  0.05],\n",
       "       [13.  ,  0.05],\n",
       "       [15.  ,  0.1 ]])"
      ]
     },
     "execution_count": 68,
     "metadata": {},
     "output_type": "execute_result"
    }
   ],
   "source": [
    "discreteDist = np.array([[0, 2, 3, 4, 7, 9, 10, 13, 15], \n",
    "                        [0.1, 0.3, 0.05, 0.1, 0.15, 0.1, 0.05, 0.05, 0.1]]).T\n",
    "discreteDist"
   ]
  },
  {
   "cell_type": "markdown",
   "metadata": {},
   "source": [
    "### Inverse Transform Function"
   ]
  },
  {
   "cell_type": "code",
   "execution_count": 69,
   "metadata": {},
   "outputs": [
    {
     "data": {
      "text/plain": [
       "array([0.1 , 0.3 , 0.05, 0.1 , 0.15, 0.1 , 0.05, 0.05, 0.1 ])"
      ]
     },
     "execution_count": 69,
     "metadata": {},
     "output_type": "execute_result"
    }
   ],
   "source": [
    "discreteDist[:,1]"
   ]
  },
  {
   "cell_type": "code",
   "execution_count": 70,
   "metadata": {},
   "outputs": [
    {
     "data": {
      "text/plain": [
       "array([[ 0.  ,  0.1 ],\n",
       "       [ 2.  ,  0.4 ],\n",
       "       [ 3.  ,  0.45],\n",
       "       [ 4.  ,  0.55],\n",
       "       [ 7.  ,  0.7 ],\n",
       "       [ 9.  ,  0.8 ],\n",
       "       [10.  ,  0.85],\n",
       "       [13.  ,  0.9 ],\n",
       "       [15.  ,  1.  ]])"
      ]
     },
     "execution_count": 70,
     "metadata": {},
     "output_type": "execute_result"
    }
   ],
   "source": [
    "discreteCumulativeProb = np.array([discreteDist[:,0], discreteDist[:,1].cumsum()]).T\n",
    "discreteCumulativeProb"
   ]
  },
  {
   "cell_type": "code",
   "execution_count": 71,
   "metadata": {},
   "outputs": [],
   "source": [
    "def inverTransform(cumProb, discreteCumDist):\n",
    "    if (cumProb < 0 or cumProb > 1):\n",
    "        print(\"Probability must be between 0 and 1\")\n",
    "        return\n",
    "    elif (cumProb == 1):\n",
    "        return discreteCumDist[len(discreteCumDist)-1,0]\n",
    "    else:\n",
    "        for i in range (discreteCumDist[:,1].size):\n",
    "            #print(discreteCumDist[i,1])\n",
    "            if cumProb <= discreteCumDist[i,1]:\n",
    "                \n",
    "                return discreteCumDist[i,0]\n",
    "        "
   ]
  },
  {
   "cell_type": "code",
   "execution_count": 72,
   "metadata": {},
   "outputs": [
    {
     "data": {
      "text/plain": [
       "4.0"
      ]
     },
     "execution_count": 72,
     "metadata": {},
     "output_type": "execute_result"
    }
   ],
   "source": [
    "inverTransform(0.5, discreteCumulativeProb)"
   ]
  },
  {
   "cell_type": "code",
   "execution_count": 73,
   "metadata": {},
   "outputs": [
    {
     "data": {
      "text/plain": [
       "array([0.74, 0.58, 0.15, 0.47, 0.72, 0.18, 0.46, 0.57, 0.81, 0.98, 0.42,\n",
       "       0.31, 0.24, 0.17, 0.95, 0.69, 0.53, 0.93, 0.01, 0.36, 0.88, 0.01,\n",
       "       0.37, 0.73, 0.62, 0.66, 0.37, 0.67, 0.6 , 0.13, 0.14, 0.13, 0.12,\n",
       "       0.56, 0.56, 0.41, 0.46, 0.32, 0.36, 0.98])"
      ]
     },
     "execution_count": 73,
     "metadata": {},
     "output_type": "execute_result"
    }
   ],
   "source": [
    "data"
   ]
  },
  {
   "cell_type": "code",
   "execution_count": 74,
   "metadata": {},
   "outputs": [
    {
     "data": {
      "text/plain": [
       "40"
      ]
     },
     "execution_count": 74,
     "metadata": {},
     "output_type": "execute_result"
    }
   ],
   "source": [
    "cumProbsDataOriginalOrder = np.array(list(map(lambda x: getCumProb(x, cumProbability), data)))\n",
    "cumProbsDataOriginalOrder.size"
   ]
  },
  {
   "cell_type": "code",
   "execution_count": 75,
   "metadata": {},
   "outputs": [
    {
     "data": {
      "text/plain": [
       "array([10.,  7.,  2.,  4.,  9.,  2.,  4.,  7., 13., 15.,  3.,  2.,  2.,\n",
       "        2., 15.,  9.,  4., 15.,  0.,  2., 13.,  0.,  2., 10.,  7.,  9.,\n",
       "        2.,  9.,  7.,  2.,  2.,  2.,  0.,  7.,  7.,  3.,  4.,  2.,  2.,\n",
       "       15.])"
      ]
     },
     "execution_count": 75,
     "metadata": {},
     "output_type": "execute_result"
    }
   ],
   "source": [
    "transformedData = np.array(list(map(lambda x: inverTransform(x, discreteCumulativeProb), cumProbsDataOriginalOrder)))\n",
    "transformedData"
   ]
  }
 ],
 "metadata": {
  "kernelspec": {
   "display_name": "Python 3.9.12 ('base')",
   "language": "python",
   "name": "python3"
  },
  "language_info": {
   "codemirror_mode": {
    "name": "ipython",
    "version": 3
   },
   "file_extension": ".py",
   "mimetype": "text/x-python",
   "name": "python",
   "nbconvert_exporter": "python",
   "pygments_lexer": "ipython3",
   "version": "3.9.12"
  },
  "orig_nbformat": 4,
  "vscode": {
   "interpreter": {
    "hash": "66e37a4da3c390ba9102db785636e2db61d518923b2ca2e4091350072f76ee72"
   }
  }
 },
 "nbformat": 4,
 "nbformat_minor": 2
}
