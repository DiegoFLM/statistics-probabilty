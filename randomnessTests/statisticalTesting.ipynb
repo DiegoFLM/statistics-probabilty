{
 "cells": [
  {
   "cell_type": "markdown",
   "metadata": {},
   "source": [
    "# Chi-square testing with scipy"
   ]
  },
  {
   "cell_type": "code",
   "execution_count": 21,
   "metadata": {},
   "outputs": [],
   "source": [
    "import numpy as np\n",
    "import pandas as pd\n",
    "import scipy.stats as stats\n",
    "import math\n"
   ]
  },
  {
   "cell_type": "code",
   "execution_count": 22,
   "metadata": {},
   "outputs": [
    {
     "data": {
      "text/plain": [
       "40"
      ]
     },
     "execution_count": 22,
     "metadata": {},
     "output_type": "execute_result"
    }
   ],
   "source": [
    "data = np.array([0.74, 0.58, 0.57, 0.81,\n",
    "    0.98, 0.69, 0.53, 0.93,\n",
    "    0.73, 0.62, 0.66, 0.13, 0.12, 0.56,\n",
    "    0.98, 0.15, 0.47, 0.72, 0.18, 0.46,\n",
    "    0.42, 0.31, 0.24, 0.17, 0.95,\n",
    "    0.01, 0.36, 0.88, 0.01, 0.37,\n",
    "    0.37, 0.67, 0.60, 0.13, 0.14,\n",
    "    0.56, 0.41, 0.46, 0.32, 0.36])\n",
    "data.size"
   ]
  },
  {
   "cell_type": "code",
   "execution_count": 23,
   "metadata": {},
   "outputs": [
    {
     "data": {
      "text/plain": [
       "7"
      ]
     },
     "execution_count": 23,
     "metadata": {},
     "output_type": "execute_result"
    }
   ],
   "source": [
    "c = math.ceil( math.sqrt(data.size) )\n",
    "c"
   ]
  },
  {
   "cell_type": "markdown",
   "metadata": {},
   "source": [
    "## Obtained frequencies for a given number of classes"
   ]
  },
  {
   "cell_type": "code",
   "execution_count": 24,
   "metadata": {},
   "outputs": [],
   "source": [
    "def getOF( dataArr, c , maxVal):\n",
    "    dataArr = np.sort(dataArr)\n",
    "    delta = maxVal / c\n",
    "    of = np.zeros( c , dtype=int)\n",
    "\n",
    "    index = 0\n",
    "    for i in range( c ):\n",
    "        while dataArr[index] <= (i+1)*delta:\n",
    "            of[i] += 1\n",
    "            index += 1\n",
    "            if index >= dataArr.size:\n",
    "                break\n",
    "    return of\n"
   ]
  },
  {
   "cell_type": "code",
   "execution_count": 25,
   "metadata": {},
   "outputs": [
    {
     "data": {
      "text/plain": [
       "array([6, 4, 8, 7, 6, 4, 5])"
      ]
     },
     "execution_count": 25,
     "metadata": {},
     "output_type": "execute_result"
    }
   ],
   "source": [
    "observedF = getOF(data, c, 1)\n",
    "observedF"
   ]
  },
  {
   "cell_type": "markdown",
   "metadata": {},
   "source": [
    "## Expected Frequencies for a given number of classes in uniform distribution"
   ]
  },
  {
   "cell_type": "code",
   "execution_count": 26,
   "metadata": {},
   "outputs": [],
   "source": [
    "def getEF( c , n):\n",
    "    ef = np.array( [n/c] * c )\n",
    "    return ef"
   ]
  },
  {
   "cell_type": "code",
   "execution_count": 27,
   "metadata": {},
   "outputs": [
    {
     "data": {
      "text/plain": [
       "array([5.71428571, 5.71428571, 5.71428571, 5.71428571, 5.71428571,\n",
       "       5.71428571, 5.71428571])"
      ]
     },
     "execution_count": 27,
     "metadata": {},
     "output_type": "execute_result"
    }
   ],
   "source": [
    "expectedF = getEF(c, data.size)\n",
    "expectedF"
   ]
  },
  {
   "cell_type": "markdown",
   "metadata": {},
   "source": [
    "## Chi2 test"
   ]
  },
  {
   "cell_type": "code",
   "execution_count": 28,
   "metadata": {},
   "outputs": [
    {
     "data": {
      "text/plain": [
       "2.3499999999999996"
      ]
     },
     "execution_count": 28,
     "metadata": {},
     "output_type": "execute_result"
    }
   ],
   "source": [
    "chi2Calc = np.sum( (observedF - expectedF)**2 / expectedF )\n",
    "chi2Calc"
   ]
  },
  {
   "cell_type": "code",
   "execution_count": 29,
   "metadata": {},
   "outputs": [
    {
     "name": "stdout",
     "output_type": "stream",
     "text": [
      "criticVal:  12.591587243743977\n"
     ]
    }
   ],
   "source": [
    "criticVal = stats.chi2.ppf(q = 0.95, df = c-1)\n",
    "print(\"criticVal: \", criticVal)"
   ]
  },
  {
   "cell_type": "code",
   "execution_count": 30,
   "metadata": {},
   "outputs": [
    {
     "name": "stdout",
     "output_type": "stream",
     "text": [
      "pVal:  0.8848628827373295\n"
     ]
    }
   ],
   "source": [
    "pVal = 1 - stats.chi2.cdf(x=chi2Calc,  # Find the p-value\n",
    "                             df=c-1)\n",
    "print(\"pVal: \", pVal)"
   ]
  },
  {
   "cell_type": "markdown",
   "metadata": {},
   "source": [
    "## chi2 with Scipy"
   ]
  },
  {
   "cell_type": "code",
   "execution_count": 31,
   "metadata": {},
   "outputs": [
    {
     "data": {
      "text/plain": [
       "Power_divergenceResult(statistic=2.3499999999999996, pvalue=0.8848628827373295)"
      ]
     },
     "execution_count": 31,
     "metadata": {},
     "output_type": "execute_result"
    }
   ],
   "source": [
    "stats.chisquare( getOF(data, c, 1), getEF(c, data.size) )\n"
   ]
  },
  {
   "cell_type": "markdown",
   "metadata": {},
   "source": [
    "# Poker testing"
   ]
  },
  {
   "cell_type": "code",
   "execution_count": 32,
   "metadata": {},
   "outputs": [],
   "source": [
    "import numpy as np\n",
    "import pandas as pd\n",
    "import scipy.stats as stats\n",
    "import math\n"
   ]
  },
  {
   "cell_type": "markdown",
   "metadata": {},
   "source": [
    "## Classification"
   ]
  },
  {
   "cell_type": "markdown",
   "metadata": {},
   "source": [
    "Numbers are classified afther the number of repeated decimals they have.  \n",
    "They can have either 0 or 1 repetitions (if both decimals are equal)."
   ]
  },
  {
   "cell_type": "code",
   "execution_count": 33,
   "metadata": {},
   "outputs": [
    {
     "name": "stdout",
     "output_type": "stream",
     "text": [
      "[0. 0. 0. 0. 0. 0. 0. 0. 0. 0. 1. 0. 0. 0. 0. 0. 0. 0. 0. 0. 0. 0. 0. 0.\n",
      " 0. 0. 0. 1. 0. 0. 0. 0. 0. 0. 0. 0. 0. 0. 0. 0.]\n",
      "2.0\n"
     ]
    }
   ],
   "source": [
    "classifiedData = np.array([])\n",
    "for i in data:\n",
    "    firstDec = math.floor(i*1e1 % 10)\n",
    "    secondDec = math.floor(i*1e2 % 10)\n",
    "    if (firstDec == secondDec):\n",
    "        classifiedData = np.append(classifiedData, 1)\n",
    "    else:\n",
    "        classifiedData = np.append(classifiedData, 0)\n",
    "print(classifiedData)\n",
    "print(classifiedData.sum())"
   ]
  },
  {
   "cell_type": "code",
   "execution_count": 34,
   "metadata": {},
   "outputs": [
    {
     "name": "stdout",
     "output_type": "stream",
     "text": [
      "      0\n",
      "0  38.0\n",
      "1   2.0\n"
     ]
    }
   ],
   "source": [
    "# Observed frequencies:\n",
    "# OF[0] =: Numbers with different decimals\n",
    "# OF[1] =: Numbers with equal decimals\n",
    "OF = pd.DataFrame([data.size - classifiedData.sum(), classifiedData.sum()])\n",
    "print(OF)"
   ]
  },
  {
   "cell_type": "markdown",
   "metadata": {},
   "source": [
    "Expected Frequencies:\n",
    "For two decimals, the probability of being equal is: $$(10*1) / (10*10)$$\n",
    "$$= 1/10 = 0.1$$\n",
    "Then, for $$40$$ values, the expected number of repetitions if $$4$$"
   ]
  },
  {
   "cell_type": "code",
   "execution_count": 35,
   "metadata": {},
   "outputs": [
    {
     "name": "stdout",
     "output_type": "stream",
     "text": [
      "    0\n",
      "0  36\n",
      "1   4\n"
     ]
    }
   ],
   "source": [
    "EF = pd.DataFrame([40-4, 4])\n",
    "print(EF)"
   ]
  },
  {
   "cell_type": "markdown",
   "metadata": {},
   "source": [
    "## Chi square test"
   ]
  },
  {
   "cell_type": "code",
   "execution_count": 36,
   "metadata": {},
   "outputs": [
    {
     "data": {
      "text/plain": [
       "Power_divergenceResult(statistic=array([1.11111111]), pvalue=array([0.29184055]))"
      ]
     },
     "execution_count": 36,
     "metadata": {},
     "output_type": "execute_result"
    }
   ],
   "source": [
    "# scipy way\n",
    "stats.chisquare(OF, EF)"
   ]
  },
  {
   "cell_type": "code",
   "execution_count": 37,
   "metadata": {},
   "outputs": [
    {
     "name": "stdout",
     "output_type": "stream",
     "text": [
      "chi2Calc:  1.1111111111111112\n"
     ]
    }
   ],
   "source": [
    "chi2Calc = ((OF - EF)**2 / EF).sum()\n",
    "print(\"chi2Calc: \", chi2Calc[0])"
   ]
  },
  {
   "cell_type": "code",
   "execution_count": 38,
   "metadata": {},
   "outputs": [
    {
     "name": "stdout",
     "output_type": "stream",
     "text": [
      "criticVal:  3.841458820694124\n"
     ]
    }
   ],
   "source": [
    "criticVal = stats.chi2.ppf(q = 0.95, df = 1)\n",
    "print(\"criticVal: \", criticVal)"
   ]
  },
  {
   "cell_type": "code",
   "execution_count": 39,
   "metadata": {},
   "outputs": [
    {
     "name": "stdout",
     "output_type": "stream",
     "text": [
      "p_value:  [0.29184055]\n"
     ]
    }
   ],
   "source": [
    "p_value = 1 - stats.chi2.cdf(x=chi2Calc,  # Find the p-value\n",
    "                             df=1)\n",
    "print(\"p_value: \", p_value)"
   ]
  },
  {
   "cell_type": "markdown",
   "metadata": {},
   "source": [
    "p_value is greater than 0.05, which is equivalent to say that \n",
    "our chi2Calc is less than the critical value criticVal, so the\n",
    "data set passes the poker test."
   ]
  },
  {
   "cell_type": "markdown",
   "metadata": {},
   "source": [
    "# Kolmogorov-smirnov"
   ]
  },
  {
   "cell_type": "code",
   "execution_count": 41,
   "metadata": {},
   "outputs": [],
   "source": [
    "import numpy as np\n",
    "import pandas as pd\n",
    "import scipy.stats as stats\n",
    "import math\n"
   ]
  },
  {
   "cell_type": "code",
   "execution_count": null,
   "metadata": {},
   "outputs": [],
   "source": []
  }
 ],
 "metadata": {
  "kernelspec": {
   "display_name": "Python 3.9.12 ('base')",
   "language": "python",
   "name": "python3"
  },
  "language_info": {
   "codemirror_mode": {
    "name": "ipython",
    "version": 3
   },
   "file_extension": ".py",
   "mimetype": "text/x-python",
   "name": "python",
   "nbconvert_exporter": "python",
   "pygments_lexer": "ipython3",
   "version": "3.9.12"
  },
  "orig_nbformat": 4,
  "vscode": {
   "interpreter": {
    "hash": "66e37a4da3c390ba9102db785636e2db61d518923b2ca2e4091350072f76ee72"
   }
  }
 },
 "nbformat": 4,
 "nbformat_minor": 2
}
