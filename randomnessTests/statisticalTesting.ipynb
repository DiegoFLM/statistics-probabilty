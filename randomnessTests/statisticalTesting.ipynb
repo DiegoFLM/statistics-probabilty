{
 "cells": [
  {
   "cell_type": "markdown",
   "metadata": {},
   "source": [
    "# Useful Functions"
   ]
  },
  {
   "cell_type": "markdown",
   "metadata": {},
   "source": [
    "## normalize() & normalize2()"
   ]
  },
  {
   "cell_type": "code",
   "execution_count": 94,
   "metadata": {},
   "outputs": [],
   "source": [
    "#Funcion global para normalizar\n",
    "def normalize(lis,m):\n",
    " lis2 =[]\n",
    " for i in range(len(lis)):\n",
    "  lis2.append(round(lis[i]/ m, 2))\n",
    " return lis2\n",
    "\n",
    " #Normalizar para usar poker\n",
    "def normalize2(lis,m):\n",
    " lis2 =[]\n",
    " for i in range(len(lis)):\n",
    "  lis2.append(round(lis[i]/ m, 3))\n",
    " return lis2"
   ]
  },
  {
   "cell_type": "markdown",
   "metadata": {},
   "source": [
    "## getInterval(start, end, L, num)"
   ]
  },
  {
   "cell_type": "code",
   "execution_count": 88,
   "metadata": {},
   "outputs": [],
   "source": [
    "import numpy as np\n",
    "import math"
   ]
  },
  {
   "cell_type": "code",
   "execution_count": 104,
   "metadata": {},
   "outputs": [],
   "source": [
    "# Asumiendo que num pertenece al rango [start, end], y que dicho rango\n",
    "# está dividido en L intervalos, devuelve el número de intervalo.\n",
    "# Los intervalos se enumeran desde 0 hasta L-1.\n",
    "# siendo el intervalo [0.1,0.2) el intervalo 1, para start = 0, end = 1, L = 10.\n",
    "# El último intervalo es cerrado en ambos extremos, y los demás son cerrados\n",
    "# en el extremo inferior y abiertos en el extremo superior.\n",
    "def getInterval(start, end, L, num):\n",
    "    if (num > end):\n",
    "        print(\"Error: número fuera de rango\")\n",
    "        return\n",
    "\n",
    "    intervalSize = (end - start) / L\n",
    "    interval = math.floor((num - start) / intervalSize)\n",
    "    if (interval == L):\n",
    "        interval = L - 1\n",
    "    return interval"
   ]
  },
  {
   "cell_type": "code",
   "execution_count": 93,
   "metadata": {},
   "outputs": [
    {
     "data": {
      "text/plain": [
       "1"
      ]
     },
     "execution_count": 93,
     "metadata": {},
     "output_type": "execute_result"
    }
   ],
   "source": [
    "getInterval(0, 1, 10, 0.15)"
   ]
  },
  {
   "cell_type": "markdown",
   "metadata": {},
   "source": [
    "# Chi-square testing"
   ]
  },
  {
   "cell_type": "code",
   "execution_count": 81,
   "metadata": {},
   "outputs": [],
   "source": [
    "import numpy as np\n",
    "import pandas as pd\n",
    "import scipy.stats as stats\n",
    "import math\n"
   ]
  },
  {
   "cell_type": "markdown",
   "metadata": {},
   "source": [
    "## Previous steps"
   ]
  },
  {
   "cell_type": "code",
   "execution_count": 237,
   "metadata": {},
   "outputs": [
    {
     "data": {
      "text/plain": [
       "40"
      ]
     },
     "execution_count": 237,
     "metadata": {},
     "output_type": "execute_result"
    }
   ],
   "source": [
    "data = np.array([\n",
    "    0.74, 0.58, 0.15, 0.47, 0.72, 0.18, 0.46, 0.57,\n",
    "    0.81, 0.98, 0.42, 0.31, 0.24, 0.17, 0.95, 0.69,\n",
    "    0.53, 0.93, 0.01, 0.36, 0.88, 0.01, 0.37, 0.73,\n",
    "    0.62, 0.66, 0.37, 0.67, 0.60, 0.13, 0.14, 0.13,\n",
    "    0.12, 0.56, 0.56, 0.41, 0.46, 0.32, 0.36, 0.98 \n",
    "])\n",
    "data.size"
   ]
  },
  {
   "cell_type": "code",
   "execution_count": 83,
   "metadata": {},
   "outputs": [
    {
     "data": {
      "text/plain": [
       "7"
      ]
     },
     "execution_count": 83,
     "metadata": {},
     "output_type": "execute_result"
    }
   ],
   "source": [
    "c = math.ceil( math.sqrt(data.size) )\n",
    "c"
   ]
  },
  {
   "cell_type": "markdown",
   "metadata": {},
   "source": [
    "### Obtained frequencies for a given number of classes"
   ]
  },
  {
   "cell_type": "code",
   "execution_count": 84,
   "metadata": {},
   "outputs": [],
   "source": [
    "def getOF( dataArr, c , maxVal):\n",
    "    dataArr = np.sort(dataArr)\n",
    "    delta = maxVal / c\n",
    "    of = np.zeros( c , dtype=int)\n",
    "\n",
    "    index = 0\n",
    "    for i in range( c ):\n",
    "        while dataArr[index] <= (i+1)*delta:\n",
    "            of[i] += 1\n",
    "            index += 1\n",
    "            if index >= dataArr.size:\n",
    "                break\n",
    "    return of\n"
   ]
  },
  {
   "cell_type": "code",
   "execution_count": 85,
   "metadata": {},
   "outputs": [
    {
     "data": {
      "text/plain": [
       "array([6, 4, 8, 7, 6, 4, 5])"
      ]
     },
     "execution_count": 85,
     "metadata": {},
     "output_type": "execute_result"
    }
   ],
   "source": [
    "observedF = getOF(data, c, 1)\n",
    "observedF"
   ]
  },
  {
   "cell_type": "markdown",
   "metadata": {},
   "source": [
    "### Expected Frequencies for a given number of classes in uniform distribution"
   ]
  },
  {
   "cell_type": "code",
   "execution_count": 86,
   "metadata": {},
   "outputs": [],
   "source": [
    "def getEF( c , n):\n",
    "    ef = np.array( [n/c] * c )\n",
    "    return ef"
   ]
  },
  {
   "cell_type": "code",
   "execution_count": 87,
   "metadata": {},
   "outputs": [
    {
     "data": {
      "text/plain": [
       "array([5.71428571, 5.71428571, 5.71428571, 5.71428571, 5.71428571,\n",
       "       5.71428571, 5.71428571])"
      ]
     },
     "execution_count": 87,
     "metadata": {},
     "output_type": "execute_result"
    }
   ],
   "source": [
    "expectedF = getEF(c, data.size)\n",
    "expectedF"
   ]
  },
  {
   "cell_type": "markdown",
   "metadata": {},
   "source": [
    "## Chi2 test development"
   ]
  },
  {
   "cell_type": "code",
   "execution_count": 88,
   "metadata": {},
   "outputs": [
    {
     "data": {
      "text/plain": [
       "2.3499999999999996"
      ]
     },
     "execution_count": 88,
     "metadata": {},
     "output_type": "execute_result"
    }
   ],
   "source": [
    "chi2Calc = np.sum( (observedF - expectedF)**2 / expectedF )\n",
    "chi2Calc"
   ]
  },
  {
   "cell_type": "code",
   "execution_count": 89,
   "metadata": {},
   "outputs": [
    {
     "name": "stdout",
     "output_type": "stream",
     "text": [
      "criticVal:  12.591587243743977\n"
     ]
    }
   ],
   "source": [
    "criticVal = stats.chi2.ppf(q = 0.95, df = c-1)\n",
    "print(\"criticVal: \", criticVal)"
   ]
  },
  {
   "cell_type": "code",
   "execution_count": 90,
   "metadata": {},
   "outputs": [
    {
     "name": "stdout",
     "output_type": "stream",
     "text": [
      "pVal:  0.8848628827373295\n"
     ]
    }
   ],
   "source": [
    "pVal = 1 - stats.chi2.cdf(x=chi2Calc,  # Find the p-value\n",
    "                             df=c-1)\n",
    "print(\"pVal: \", pVal)"
   ]
  },
  {
   "cell_type": "markdown",
   "metadata": {},
   "source": [
    "## chi2 with Scipy"
   ]
  },
  {
   "cell_type": "code",
   "execution_count": 91,
   "metadata": {},
   "outputs": [
    {
     "data": {
      "text/plain": [
       "Power_divergenceResult(statistic=2.3499999999999996, pvalue=0.8848628827373295)"
      ]
     },
     "execution_count": 91,
     "metadata": {},
     "output_type": "execute_result"
    }
   ],
   "source": [
    "# c is the number of classes\n",
    "stats.chisquare( getOF(data, c, 1), getEF(c, data.size) )\n"
   ]
  },
  {
   "cell_type": "code",
   "execution_count": 92,
   "metadata": {},
   "outputs": [
    {
     "name": "stdout",
     "output_type": "stream",
     "text": [
      "criticVal:  12.591587243743977\n"
     ]
    }
   ],
   "source": [
    "criticVal = stats.chi2.ppf(q = 0.95, df = c-1)\n",
    "print(\"criticVal: \", criticVal)"
   ]
  },
  {
   "cell_type": "markdown",
   "metadata": {},
   "source": [
    "# Poker testing"
   ]
  },
  {
   "cell_type": "code",
   "execution_count": 93,
   "metadata": {},
   "outputs": [],
   "source": [
    "import numpy as np\n",
    "import pandas as pd\n",
    "import scipy.stats as stats\n",
    "import math\n"
   ]
  },
  {
   "cell_type": "markdown",
   "metadata": {},
   "source": [
    "## Classification"
   ]
  },
  {
   "cell_type": "markdown",
   "metadata": {},
   "source": [
    "Numbers are classified afther the number of repeated decimals they have.  \n",
    "For two decimals, numbers can have either 0 or 1 repetitions (if both decimals are equal)."
   ]
  },
  {
   "cell_type": "code",
   "execution_count": 94,
   "metadata": {},
   "outputs": [],
   "source": [
    "# areDecimalsEqual returns 1 if the first and second decimal places are equal\n",
    "def areDecimalsEqual(number):\n",
    "    firstDec = math.floor(number*1e1 % 10)\n",
    "    secondDec = math.floor(number*1e2 % 10)\n",
    "    if (firstDec == secondDec):\n",
    "        return 1\n",
    "    else:\n",
    "        return 0\n"
   ]
  },
  {
   "cell_type": "code",
   "execution_count": 95,
   "metadata": {},
   "outputs": [
    {
     "data": {
      "text/plain": [
       "array([1, 0, 1])"
      ]
     },
     "execution_count": 95,
     "metadata": {},
     "output_type": "execute_result"
    }
   ],
   "source": [
    "tArr = np.array([0.55, 0.32, 0.33])\n",
    "mapped = np.array(list(map(areDecimalsEqual, tArr)))\n",
    "mapped"
   ]
  },
  {
   "cell_type": "code",
   "execution_count": 96,
   "metadata": {},
   "outputs": [],
   "source": [
    "def mapEqualDecimals( dataArr ):\n",
    "    return np.array(list(map(areDecimalsEqual, dataArr)))"
   ]
  },
  {
   "cell_type": "code",
   "execution_count": 97,
   "metadata": {},
   "outputs": [],
   "source": [
    "classifiedData = mapEqualDecimals(data)"
   ]
  },
  {
   "cell_type": "code",
   "execution_count": 98,
   "metadata": {},
   "outputs": [
    {
     "name": "stdout",
     "output_type": "stream",
     "text": [
      "    0\n",
      "0  38\n",
      "1   2\n"
     ]
    }
   ],
   "source": [
    "# Observed frequencies:\n",
    "# OF[0] =: Numbers with different decimals\n",
    "# OF[1] =: Numbers with repeated decimals\n",
    "OF = pd.DataFrame([data.size - classifiedData.sum(), classifiedData.sum()])\n",
    "print(OF)"
   ]
  },
  {
   "cell_type": "markdown",
   "metadata": {},
   "source": [
    "Expected Frequencies:\n",
    "For two decimals, the probability of being equal is: $$(10*1) / (10*10)$$\n",
    "$$= 1/10 = 0.1$$\n",
    "Then, for $$40$$ values, the expected number of repetitions if $$4$$"
   ]
  },
  {
   "cell_type": "code",
   "execution_count": 99,
   "metadata": {},
   "outputs": [
    {
     "name": "stdout",
     "output_type": "stream",
     "text": [
      "    0\n",
      "0  36\n",
      "1   4\n"
     ]
    }
   ],
   "source": [
    "EF = pd.DataFrame([40-4, 4])\n",
    "print(EF)"
   ]
  },
  {
   "cell_type": "markdown",
   "metadata": {},
   "source": [
    "## Chi square test"
   ]
  },
  {
   "cell_type": "code",
   "execution_count": 100,
   "metadata": {},
   "outputs": [
    {
     "data": {
      "text/plain": [
       "Power_divergenceResult(statistic=array([1.11111111]), pvalue=array([0.29184055]))"
      ]
     },
     "execution_count": 100,
     "metadata": {},
     "output_type": "execute_result"
    }
   ],
   "source": [
    "# scipy way\n",
    "stats.chisquare(OF, EF)"
   ]
  },
  {
   "cell_type": "code",
   "execution_count": 101,
   "metadata": {},
   "outputs": [
    {
     "name": "stdout",
     "output_type": "stream",
     "text": [
      "chi2Calc:  1.1111111111111112\n"
     ]
    }
   ],
   "source": [
    "chi2Calc = ((OF - EF)**2 / EF).sum()\n",
    "print(\"chi2Calc: \", chi2Calc[0])"
   ]
  },
  {
   "cell_type": "code",
   "execution_count": 102,
   "metadata": {},
   "outputs": [
    {
     "name": "stdout",
     "output_type": "stream",
     "text": [
      "criticVal:  3.841458820694124\n"
     ]
    }
   ],
   "source": [
    "criticVal = stats.chi2.ppf(q = 0.95, df = 1)\n",
    "print(\"criticVal: \", criticVal)"
   ]
  },
  {
   "cell_type": "code",
   "execution_count": 103,
   "metadata": {},
   "outputs": [
    {
     "name": "stdout",
     "output_type": "stream",
     "text": [
      "p_value:  [0.29184055]\n"
     ]
    }
   ],
   "source": [
    "p_value = 1 - stats.chi2.cdf(x=chi2Calc,  # Find the p-value\n",
    "                             df=1)\n",
    "print(\"p_value: \", p_value)"
   ]
  },
  {
   "cell_type": "markdown",
   "metadata": {},
   "source": [
    "p_value is greater than 0.05, which is equivalent to say that \n",
    "our chi2Calc is less than the critical value criticVal, so the\n",
    "data set passes the poker test."
   ]
  },
  {
   "cell_type": "markdown",
   "metadata": {},
   "source": [
    "# Kolmogorov-smirnov"
   ]
  },
  {
   "cell_type": "code",
   "execution_count": 27,
   "metadata": {},
   "outputs": [],
   "source": [
    "import numpy as np\n",
    "import pandas as pd\n",
    "import scipy.stats as stats\n",
    "from math import sqrt, ceil, floor\n",
    "import random\n"
   ]
  },
  {
   "cell_type": "code",
   "execution_count": 28,
   "metadata": {},
   "outputs": [],
   "source": [
    "# n := Cantidad de números aleatorios\n",
    "# c := Cantidad de intervalos\n",
    "\n",
    "# e.g.\n",
    "# n =  1000\n",
    "# c = ceil(sqrt(n))\n",
    "# gl = n  # Grados de libertad\n",
    "\n",
    "def uniformePEA(n):\n",
    "    c = ceil(sqrt(n))\n",
    "    lis = np.array([1/c * (i + 1) for i in range(c)])\n",
    "    return lis"
   ]
  },
  {
   "cell_type": "code",
   "execution_count": 29,
   "metadata": {
    "colab": {
     "base_uri": "https://localhost:8080/"
    },
    "id": "39T_ig8VJaDL",
    "outputId": "ee5894c2-ad44-42b5-cd75-f6d463635188"
   },
   "outputs": [
    {
     "name": "stdout",
     "output_type": "stream",
     "text": [
      "[0.1 0.2 0.3 0.4 0.5 0.6 0.7 0.8 0.9 1. ]\n"
     ]
    }
   ],
   "source": [
    "lsU_PEA = uniformePEA(100)\n",
    "print(lsU_PEA)"
   ]
  },
  {
   "cell_type": "markdown",
   "metadata": {},
   "source": [
    "## classifyKS with nested for"
   ]
  },
  {
   "cell_type": "code",
   "execution_count": 30,
   "metadata": {
    "id": "gVnc0SyJkO7-"
   },
   "outputs": [],
   "source": [
    "def classifyKSWithNestedFor(data, maxVal):\n",
    "    n = len(data)\n",
    "    c = ceil(sqrt(n))\n",
    "    print(f\"c = {c}\")\n",
    "    freqList = np.zeros(c, dtype = int)\n",
    "    for i in range(n):\n",
    "        for j in range (0, c):\n",
    "            interv = c - 1\n",
    "            if (data[i] == maxVal):\n",
    "                freqList[c - 1] += 1\n",
    "                break\n",
    "            if (data[i] < ((j + 1) *(maxVal / c)) ): # Problemas con maxVal para < ; \n",
    "                                        # Se incluye el primer valor del siguiente intervalo para <=\n",
    "                freqList[j] += 1\n",
    "                break\n",
    "    return freqList"
   ]
  },
  {
   "cell_type": "code",
   "execution_count": 31,
   "metadata": {},
   "outputs": [
    {
     "name": "stdout",
     "output_type": "stream",
     "text": [
      "c = 4\n"
     ]
    },
    {
     "data": {
      "text/plain": [
       "array([1, 4, 2, 4])"
      ]
     },
     "execution_count": 31,
     "metadata": {},
     "output_type": "execute_result"
    }
   ],
   "source": [
    "tArr = np.array([0.55, 0.32, 0.333, 0.99, 0.05, 0.34, 0.25, 0.98, 0.56, 0.8, 1])\n",
    "classifyKSWithNestedFor(tArr, 1)"
   ]
  },
  {
   "cell_type": "markdown",
   "metadata": {},
   "source": [
    "## countFreqs, classifyKS"
   ]
  },
  {
   "cell_type": "code",
   "execution_count": 32,
   "metadata": {},
   "outputs": [],
   "source": [
    "def countFreqs(data, maxVal, c):\n",
    "    n = len(data)\n",
    "    freqList = np.zeros(c, dtype = int)\n",
    "    for i in range(n):\n",
    "        if (data[i] == maxVal):\n",
    "            freqList[c - 1] += 1\n",
    "        else:\n",
    "            freqList[floor( (data[i] * c / maxVal) )] += 1\n",
    "    return freqList"
   ]
  },
  {
   "cell_type": "code",
   "execution_count": 33,
   "metadata": {},
   "outputs": [
    {
     "data": {
      "text/plain": [
       "array([1, 4, 2, 4])"
      ]
     },
     "execution_count": 33,
     "metadata": {},
     "output_type": "execute_result"
    }
   ],
   "source": [
    "countFreqs(tArr, 1, ceil(sqrt(len(tArr))))"
   ]
  },
  {
   "cell_type": "code",
   "execution_count": 34,
   "metadata": {},
   "outputs": [],
   "source": [
    "# for c = ceil(sqrt(n))\n",
    "\n",
    "def classifyKS(data, maxVal):\n",
    "    n = len(data)\n",
    "    c = ceil(sqrt(n))\n",
    "    freqList = countFreqs(data, maxVal, c)\n",
    "    return freqList"
   ]
  },
  {
   "cell_type": "code",
   "execution_count": 35,
   "metadata": {},
   "outputs": [
    {
     "data": {
      "text/plain": [
       "array([1, 4, 2, 4])"
      ]
     },
     "execution_count": 35,
     "metadata": {},
     "output_type": "execute_result"
    }
   ],
   "source": [
    "classifyKS(tArr, 1)"
   ]
  },
  {
   "cell_type": "markdown",
   "metadata": {},
   "source": [
    "## dmCalc_kolmogorov_Smirnov"
   ]
  },
  {
   "cell_type": "code",
   "execution_count": 36,
   "metadata": {
    "id": "DTLOUolOJdPc"
   },
   "outputs": [],
   "source": [
    "# Calcula el DMcalc del test de Kolmogorov-Smirnov\n",
    "def dmCalc_kolmogorov_Smirnov(n, lisFO):\n",
    "    c = len(lisFO)\n",
    "    gl = n  # Grados de libertad\n",
    "\n",
    "    lisPEA = uniformePEA(n)\n",
    "\n",
    "    lisFOA = np.cumsum(lisFO)\n",
    "\n",
    "    lisPOA = list ( map ( lambda x: x / n , lisFOA ))\n",
    "\n",
    "    v1 = lisPEA[0]\n",
    "    v2 = lisPOA[0]\n",
    "\n",
    "    difs = np.abs(lisPEA - lisPOA)\n",
    "    d = round(difs.max(), 2)\n",
    "\n",
    "    return d"
   ]
  },
  {
   "cell_type": "code",
   "execution_count": 37,
   "metadata": {
    "colab": {
     "base_uri": "https://localhost:8080/"
    },
    "id": "CgAUPWByJ30p",
    "outputId": "c87f0626-c0e7-4423-e5d0-08743e11e6cf"
   },
   "outputs": [
    {
     "data": {
      "text/plain": [
       "0.04"
      ]
     },
     "execution_count": 37,
     "metadata": {},
     "output_type": "execute_result"
    }
   ],
   "source": [
    "foEj = [11, 6, 16, 9, 7, 11, 10, 9, 15, 6]  # Frecuencias Observadas de ejemplo visto en clase\n",
    "dmCalc_kolmogorov_Smirnov(100, foEj)  # Arroja el mismo valor para DMcalc obtenido en el ejemplo visto en clase"
   ]
  },
  {
   "cell_type": "code",
   "execution_count": 38,
   "metadata": {
    "id": "e79hmcZLKz9d"
   },
   "outputs": [],
   "source": [
    "# Genera un arreglo con observaciones para intervalos de diez enteros \n",
    "# en base a un arreglo de frecuencias observadas arrayFO\n",
    "def crearObservacioens(arrayFO):\n",
    "    ejObs = []\n",
    "    for i in range (len(arrayFO)):\n",
    "        for j in range(arrayFO[i]):\n",
    "            ejObs.append((10 * i) + random.randint(0,9))\n",
    "    return ejObs"
   ]
  },
  {
   "cell_type": "code",
   "execution_count": 39,
   "metadata": {
    "colab": {
     "base_uri": "https://localhost:8080/"
    },
    "id": "aDa796eSK_yq",
    "outputId": "44818ca4-c37c-4c77-e0c0-f51684dea235"
   },
   "outputs": [
    {
     "data": {
      "text/plain": [
       "100"
      ]
     },
     "execution_count": 39,
     "metadata": {},
     "output_type": "execute_result"
    }
   ],
   "source": [
    "ejObs = crearObservacioens(foEj)\n",
    "len(ejObs)"
   ]
  },
  {
   "cell_type": "markdown",
   "metadata": {},
   "source": [
    "## critValKolmogorov"
   ]
  },
  {
   "cell_type": "code",
   "execution_count": 40,
   "metadata": {
    "id": "zADAj02OLAy_"
   },
   "outputs": [],
   "source": [
    "# for a 0.01, 0.05 or 0.10 significance level\n",
    "def critValKolmogorov(n, significanceLevel):\n",
    "    if (significanceLevel == 0.01):\n",
    "        if (n > 20):\n",
    "            return 1.63 / sqrt(n)\n",
    "\n",
    "        elif (n == 5):\n",
    "            return 0.669\n",
    "        elif (n == 8):\n",
    "            return 0.543\n",
    "        elif (n == 10):\n",
    "            return 0.490\n",
    "        elif (n == 12):\n",
    "            return 0.450\n",
    "        elif (n == 15):\n",
    "            return 0.404\n",
    "        elif (n == 20):\n",
    "            return 0.356\n",
    "    elif (significanceLevel == 0.05):\n",
    "        if (n > 20):\n",
    "            return 1.36 / sqrt(n)\n",
    "\n",
    "        elif (n == 5):\n",
    "            return 0.565\n",
    "        elif (n == 8):\n",
    "            return 0.457\n",
    "        elif (n == 10):\n",
    "            return 0.410\n",
    "        elif (n == 12):\n",
    "            return 0.375\n",
    "        elif (n == 15):\n",
    "            return 0.338\n",
    "        elif (n == 20):\n",
    "            return 0.294\n",
    "    elif (significanceLevel == 0.10):\n",
    "        if (n > 20):\n",
    "            return 1.22 / sqrt(n)\n",
    "\n",
    "        elif (n == 5):\n",
    "            return 0.510\n",
    "        elif (n == 8):\n",
    "            return 0.411\n",
    "        elif (n == 10):\n",
    "            return 0.368\n",
    "        elif (n == 12):\n",
    "            return 0.338\n",
    "        elif (n == 15):\n",
    "            return 0.304\n",
    "        elif (n == 20):\n",
    "            return 0.264\n"
   ]
  },
  {
   "cell_type": "markdown",
   "metadata": {},
   "source": [
    "## kolmogorovTest"
   ]
  },
  {
   "cell_type": "code",
   "execution_count": 41,
   "metadata": {
    "colab": {
     "base_uri": "https://localhost:8080/"
    },
    "id": "HUgTNE6XUSEP",
    "outputId": "74c17cce-9679-4984-93f8-c60cf92df11c"
   },
   "outputs": [
    {
     "name": "stdout",
     "output_type": "stream",
     "text": [
      "dmCalc = 0.27\n",
      "critVal = 0.136\n"
     ]
    },
    {
     "data": {
      "text/plain": [
       "False"
      ]
     },
     "execution_count": 41,
     "metadata": {},
     "output_type": "execute_result"
    }
   ],
   "source": [
    "# Funciona para los valores de n: {5, 8, 10, 12, 15, 20}, para n > 20 \n",
    "# y para una significancia de 0.01, 0.05 o 0.10 \n",
    "def kolmogorovTest(data, maxVal, significanceLevel):\n",
    "    n = len(data)\n",
    "    lisFo = classifyKS(data, maxVal)\n",
    "    dmCalc = dmCalc_kolmogorov_Smirnov(n, lisFo)\n",
    "    critVal = critValKolmogorov(n, significanceLevel)\n",
    "    print(f\"dmCalc = {dmCalc}\")\n",
    "    print(f\"critVal = {critVal}\")\n",
    "    if (dmCalc > critVal):\n",
    "        #print(\"Se rechaza la hipotesis nula\")\n",
    "        return False\n",
    "    else:\n",
    "        #print(\"No se rechaza la hipotesis nula\")\n",
    "        return True\n",
    "\n",
    "kolmogorovTest(data, max(data), 0.05) #Se prueba la funcion con una secuencia uniforme generada por la libreria numpy, dando como resultado que si pasa la prueba"
   ]
  },
  {
   "cell_type": "markdown",
   "metadata": {},
   "source": [
    "## KS with Scipy \n",
    "https://www.statology.org/kolmogorov-smirnov-test-python/"
   ]
  },
  {
   "cell_type": "code",
   "execution_count": 42,
   "metadata": {},
   "outputs": [],
   "source": [
    "from numpy.random import seed\n",
    "from numpy.random import poisson\n",
    "from scipy.stats import kstest\n",
    "import seaborn as sns\n",
    "import numpy as np"
   ]
  },
  {
   "cell_type": "code",
   "execution_count": 43,
   "metadata": {},
   "outputs": [
    {
     "data": {
      "text/plain": [
       "array([ 9,  5,  6,  5,  5,  8,  4,  5,  4,  3,  3,  7,  3,  3,  4,  5,  2,\n",
       "        1,  7,  7, 10,  5,  8,  8,  6,  4,  4,  3,  1,  5,  6,  5,  5,  4,\n",
       "        1,  7,  2,  7,  6,  2,  6,  5,  7,  5,  4,  5, 10,  6,  4,  7,  3,\n",
       "        2,  2,  6,  2,  5,  3,  6,  2,  4,  4,  4,  8,  7, 11,  3,  4,  1,\n",
       "        4,  5,  1,  2,  2,  5,  5,  5,  7,  8,  4,  6,  4, 10,  3,  8,  5,\n",
       "        7,  3,  8,  2,  1,  4,  4,  4,  4,  6,  4, 12,  1,  6,  3])"
      ]
     },
     "execution_count": 43,
     "metadata": {},
     "output_type": "execute_result"
    }
   ],
   "source": [
    "#set seed (e.g. make this example reproducible)\n",
    "seed(0)\n",
    "\n",
    "#generate dataset of 100 values that follow a Poisson distribution with mean=5\n",
    "data = poisson(5, 100)\n",
    "data"
   ]
  },
  {
   "cell_type": "code",
   "execution_count": 44,
   "metadata": {},
   "outputs": [
    {
     "data": {
      "text/plain": [
       "<seaborn.axisgrid.FacetGrid at 0x7f9ca2c57ee0>"
      ]
     },
     "execution_count": 44,
     "metadata": {},
     "output_type": "execute_result"
    },
    {
     "data": {
      "image/png": "[encoded data removed]",
      "text/plain": [
       "<Figure size 360x360 with 1 Axes>"
      ]
     },
     "metadata": {
      "needs_background": "light"
     },
     "output_type": "display_data"
    }
   ],
   "source": [
    "sns.displot(data, kind=\"kde\")"
   ]
  },
  {
   "cell_type": "code",
   "execution_count": 45,
   "metadata": {},
   "outputs": [
    {
     "data": {
      "text/plain": [
       "<seaborn.axisgrid.FacetGrid at 0x7f9ca01b38b0>"
      ]
     },
     "execution_count": 45,
     "metadata": {},
     "output_type": "execute_result"
    },
    {
     "data": {
      "image/png": "[encoded data removed]",
      "text/plain": [
       "<Figure size 360x360 with 1 Axes>"
      ]
     },
     "metadata": {
      "needs_background": "light"
     },
     "output_type": "display_data"
    }
   ],
   "source": [
    "sns.displot(data, kind= 'hist')"
   ]
  },
  {
   "cell_type": "code",
   "execution_count": 46,
   "metadata": {},
   "outputs": [
    {
     "data": {
      "text/plain": [
       "KstestResult(statistic=0.9072498680518208, pvalue=1.0908062873170218e-103)"
      ]
     },
     "execution_count": 46,
     "metadata": {},
     "output_type": "execute_result"
    }
   ],
   "source": [
    "#perform Kolmogorov-Smirnov test\n",
    "kstest(data, 'norm')\n",
    "\n",
    "# From the output we can see that the test statistic is 0.9072 and \n",
    "# the corresponding p-value is 1.0908e-103. Since the p-value is less than .05, \n",
    "# we reject the null hypothesis. We have sufficient evidence to say that \n",
    "# the sample data does not come from a normal distribution."
   ]
  },
  {
   "cell_type": "code",
   "execution_count": 47,
   "metadata": {},
   "outputs": [
    {
     "data": {
      "text/plain": [
       "KstestResult(statistic=0.5, pvalue=0.5338769171034751)"
      ]
     },
     "execution_count": 47,
     "metadata": {},
     "output_type": "execute_result"
    }
   ],
   "source": [
    "kstest(data, ('poisson', 5))"
   ]
  },
  {
   "cell_type": "markdown",
   "metadata": {},
   "source": [
    "# Series"
   ]
  },
  {
   "cell_type": "code",
   "execution_count": 128,
   "metadata": {},
   "outputs": [],
   "source": [
    "import numpy as np\n",
    "import math"
   ]
  },
  {
   "cell_type": "markdown",
   "metadata": {},
   "source": [
    "## Observed Frequencies Matrix"
   ]
  },
  {
   "cell_type": "code",
   "execution_count": 170,
   "metadata": {},
   "outputs": [],
   "source": [
    "# k := Cantidad de dimensiones\n",
    "def obsFreqMatrixSeries(datos, maxVal, k):\n",
    "    datos = normalize(datos, maxVal)\n",
    "    n = len(datos)\n",
    "    g = int(n / k)       # Cantidad de grupos (tuplas)\n",
    "    #c = ceil(sqrt(g))   # Cantidad de clases\n",
    "    intervs = ceil( pow( g, 1/(2*k) ) )  # Cantidad de intervalos para cada dimensión\n",
    "\n",
    "    obsFreqs = np.zeros((intervs ** (k - 1),intervs), dtype=int)   \n",
    "    \n",
    "    for i in range (g):\n",
    "        col = getIntervalSeries(intervs, datos[i * k + (k - 1)])\n",
    "        row = 0\n",
    "        for dim in range (k - 1):\n",
    "            row += getIntervalSeries(intervs, datos[i * k + dim]) * (intervs ** (k - dim - 2))\n",
    "        obsFreqs[row][col] += 1\n",
    "    return obsFreqs"
   ]
  },
  {
   "cell_type": "code",
   "execution_count": 225,
   "metadata": {},
   "outputs": [
    {
     "data": {
      "text/plain": [
       "(16,)"
      ]
     },
     "execution_count": 225,
     "metadata": {},
     "output_type": "execute_result"
    }
   ],
   "source": [
    "tData = np.array([0.96, 0.11, 0.16, 0.21, 0.26, 0.31, 0.36, 0.41, 0.46, 0.51, 0.56, 0.61, 0.66, 0.71, 0.76, 0.81])\n",
    "tData.shape"
   ]
  },
  {
   "cell_type": "code",
   "execution_count": 226,
   "metadata": {},
   "outputs": [
    {
     "data": {
      "text/plain": [
       "array([[3, 1],\n",
       "       [1, 3]])"
      ]
     },
     "execution_count": 226,
     "metadata": {},
     "output_type": "execute_result"
    }
   ],
   "source": [
    "obsFreqMatrixSeries(tData, 1, 2)"
   ]
  },
  {
   "cell_type": "markdown",
   "metadata": {},
   "source": [
    "## Expected Frequencies Matrix"
   ]
  },
  {
   "cell_type": "code",
   "execution_count": 227,
   "metadata": {},
   "outputs": [],
   "source": [
    "def expectedFreqsMatrixSeries(datos, maxVal, k):\n",
    "    datos = normalize(datos, maxVal)\n",
    "    n = len(datos)\n",
    "    g = int(n / k)       # Cantidad de grupos (tuplas)\n",
    "    #c = ceil(sqrt(g))   # Cantidad de clases\n",
    "    intervs = ceil( pow( g, 1/(2*k) ) )  # Cantidad de intervalos para cada dimensión\n",
    "\n",
    "    ef = g / (intervs ** k)\n",
    "    efMatrix = np.full((intervs ** (k - 1),intervs), ef, dtype=float)\n",
    "    return efMatrix\n",
    "    "
   ]
  },
  {
   "cell_type": "code",
   "execution_count": 228,
   "metadata": {},
   "outputs": [
    {
     "data": {
      "text/plain": [
       "array([[2., 2.],\n",
       "       [2., 2.]])"
      ]
     },
     "execution_count": 228,
     "metadata": {},
     "output_type": "execute_result"
    }
   ],
   "source": [
    "expectedFreqsMatrixSeries(tData, 1, 2)"
   ]
  },
  {
   "cell_type": "markdown",
   "metadata": {},
   "source": [
    "## Series Test"
   ]
  },
  {
   "cell_type": "code",
   "execution_count": 245,
   "metadata": {},
   "outputs": [],
   "source": [
    "# k := Cantidad de dimensiones\n",
    "def testSeries(datos, maxVal, k, significanceLevel):\n",
    "    conf = 1 - significanceLevel\n",
    "    n = len(datos)\n",
    "    g = int(n / k)       # Cantidad de grupos (tuplas)\n",
    "    intervs = ceil( pow( g, 1/(2*k) ) )  # Cantidad de intervalos para cada dimensión\n",
    "\n",
    "    obsMatrix = obsFreqMatrixSeries(datos, maxVal, k)\n",
    "\n",
    "    # Expected frequency:\n",
    "    ef = g / (intervs ** k)\n",
    "    \n",
    "    finalMatrix = ((ef - obsMatrix)**2) / ef\n",
    "    print(finalMatrix)\n",
    "\n",
    "    # Valor calculado para la prueba de Chi cuadrado\n",
    "    calculated = np.sum(finalMatrix)\n",
    "\n",
    "    freedomDegrees = (intervs ** k) - 1\n",
    "\n",
    "    # Prueba de Chi2 directa entre obsMatrix y una matriz con los valores esperados.\n",
    "    chi2Result = stats.chisquare( obsMatrix.reshape(intervs**k), np.full((intervs ** k), ef) )\n",
    "    print( f\"Chi2 directa: {chi2Result}\" )\n",
    "    print ((1-chi2Result[1]) < conf)\n",
    "\n",
    "    # \n",
    "    # Valor crítico\n",
    "    criticVal = stats.chi2.ppf(conf, freedomDegrees)\n",
    "\n",
    "    # resultado manual\n",
    "    print(\"Valor calculado: \", calculated) #¿Siempre da cero?\n",
    "    print(\"Valor crítico: \", criticVal)\n",
    "    return calculated <= criticVal"
   ]
  },
  {
   "cell_type": "code",
   "execution_count": 246,
   "metadata": {},
   "outputs": [
    {
     "name": "stdout",
     "output_type": "stream",
     "text": [
      "[[0.5 0.5]\n",
      " [0.5 0.5]]\n",
      "Chi2 directa: Power_divergenceResult(statistic=2.0, pvalue=0.5724067044708798)\n",
      "True\n",
      "Valor calculado:  2.0\n",
      "Valor crítico:  6.251388631170325\n"
     ]
    },
    {
     "data": {
      "text/plain": [
       "True"
      ]
     },
     "execution_count": 246,
     "metadata": {},
     "output_type": "execute_result"
    }
   ],
   "source": [
    "testSeries(tData, 1, 2, 0.1)"
   ]
  },
  {
   "cell_type": "code",
   "execution_count": 247,
   "metadata": {},
   "outputs": [
    {
     "data": {
      "text/plain": [
       "array([0.74, 0.58, 0.15, 0.47, 0.72, 0.18, 0.46, 0.57, 0.81, 0.98, 0.42,\n",
       "       0.31, 0.24, 0.17, 0.95, 0.69, 0.53, 0.93, 0.01, 0.36, 0.88, 0.01,\n",
       "       0.37, 0.73, 0.62, 0.66, 0.37, 0.67, 0.6 , 0.13, 0.14, 0.13, 0.12,\n",
       "       0.56, 0.56, 0.41, 0.46, 0.32, 0.36, 0.98])"
      ]
     },
     "execution_count": 247,
     "metadata": {},
     "output_type": "execute_result"
    }
   ],
   "source": [
    "data"
   ]
  },
  {
   "cell_type": "code",
   "execution_count": 248,
   "metadata": {},
   "outputs": [
    {
     "name": "stdout",
     "output_type": "stream",
     "text": [
      "[[0.02222222 0.27222222 2.22222222]\n",
      " [0.27222222 0.27222222 1.42222222]\n",
      " [0.02222222 0.67222222 0.02222222]]\n",
      "Chi2 directa: Power_divergenceResult(statistic=5.199999999999999, pvalue=0.7360016443852392)\n",
      "True\n",
      "Valor calculado:  5.199999999999999\n",
      "Valor crítico:  13.36156613651173\n"
     ]
    },
    {
     "data": {
      "text/plain": [
       "True"
      ]
     },
     "execution_count": 248,
     "metadata": {},
     "output_type": "execute_result"
    }
   ],
   "source": [
    "testSeries(data, 1, 2, 0.1)"
   ]
  }
 ],
 "metadata": {
  "kernelspec": {
   "display_name": "Python 3.9.12 ('base')",
   "language": "python",
   "name": "python3"
  },
  "language_info": {
   "codemirror_mode": {
    "name": "ipython",
    "version": 3
   },
   "file_extension": ".py",
   "mimetype": "text/x-python",
   "name": "python",
   "nbconvert_exporter": "python",
   "pygments_lexer": "ipython3",
   "version": "3.9.12"
  },
  "orig_nbformat": 4,
  "vscode": {
   "interpreter": {
    "hash": "66e37a4da3c390ba9102db785636e2db61d518923b2ca2e4091350072f76ee72"
   }
  }
 },
 "nbformat": 4,
 "nbformat_minor": 2
}
