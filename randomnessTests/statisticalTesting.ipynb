{
 "cells": [
  {
   "cell_type": "markdown",
   "metadata": {},
   "source": [
    "# Chi-square testing with scipy"
   ]
  },
  {
   "cell_type": "code",
   "execution_count": 81,
   "metadata": {},
   "outputs": [],
   "source": [
    "import numpy as np\n",
    "import pandas as pd\n",
    "import scipy.stats as stats\n",
    "import math\n"
   ]
  },
  {
   "cell_type": "markdown",
   "metadata": {},
   "source": [
    "## Previous steps"
   ]
  },
  {
   "cell_type": "code",
   "execution_count": 82,
   "metadata": {},
   "outputs": [
    {
     "data": {
      "text/plain": [
       "40"
      ]
     },
     "execution_count": 82,
     "metadata": {},
     "output_type": "execute_result"
    }
   ],
   "source": [
    "data = np.array([0.74, 0.58, 0.57, 0.81,\n",
    "    0.98, 0.69, 0.53, 0.93,\n",
    "    0.73, 0.62, 0.66, 0.13, 0.12, 0.56,\n",
    "    0.98, 0.15, 0.47, 0.72, 0.18, 0.46,\n",
    "    0.42, 0.31, 0.24, 0.17, 0.95,\n",
    "    0.01, 0.36, 0.88, 0.01, 0.37,\n",
    "    0.37, 0.67, 0.60, 0.13, 0.14,\n",
    "    0.56, 0.41, 0.46, 0.32, 0.36])\n",
    "data.size"
   ]
  },
  {
   "cell_type": "code",
   "execution_count": 83,
   "metadata": {},
   "outputs": [
    {
     "data": {
      "text/plain": [
       "7"
      ]
     },
     "execution_count": 83,
     "metadata": {},
     "output_type": "execute_result"
    }
   ],
   "source": [
    "c = math.ceil( math.sqrt(data.size) )\n",
    "c"
   ]
  },
  {
   "cell_type": "markdown",
   "metadata": {},
   "source": [
    "### Obtained frequencies for a given number of classes"
   ]
  },
  {
   "cell_type": "code",
   "execution_count": 84,
   "metadata": {},
   "outputs": [],
   "source": [
    "def getOF( dataArr, c , maxVal):\n",
    "    dataArr = np.sort(dataArr)\n",
    "    delta = maxVal / c\n",
    "    of = np.zeros( c , dtype=int)\n",
    "\n",
    "    index = 0\n",
    "    for i in range( c ):\n",
    "        while dataArr[index] <= (i+1)*delta:\n",
    "            of[i] += 1\n",
    "            index += 1\n",
    "            if index >= dataArr.size:\n",
    "                break\n",
    "    return of\n"
   ]
  },
  {
   "cell_type": "code",
   "execution_count": 85,
   "metadata": {},
   "outputs": [
    {
     "data": {
      "text/plain": [
       "array([6, 4, 8, 7, 6, 4, 5])"
      ]
     },
     "execution_count": 85,
     "metadata": {},
     "output_type": "execute_result"
    }
   ],
   "source": [
    "observedF = getOF(data, c, 1)\n",
    "observedF"
   ]
  },
  {
   "cell_type": "markdown",
   "metadata": {},
   "source": [
    "### Expected Frequencies for a given number of classes in uniform distribution"
   ]
  },
  {
   "cell_type": "code",
   "execution_count": 86,
   "metadata": {},
   "outputs": [],
   "source": [
    "def getEF( c , n):\n",
    "    ef = np.array( [n/c] * c )\n",
    "    return ef"
   ]
  },
  {
   "cell_type": "code",
   "execution_count": 87,
   "metadata": {},
   "outputs": [
    {
     "data": {
      "text/plain": [
       "array([5.71428571, 5.71428571, 5.71428571, 5.71428571, 5.71428571,\n",
       "       5.71428571, 5.71428571])"
      ]
     },
     "execution_count": 87,
     "metadata": {},
     "output_type": "execute_result"
    }
   ],
   "source": [
    "expectedF = getEF(c, data.size)\n",
    "expectedF"
   ]
  },
  {
   "cell_type": "markdown",
   "metadata": {},
   "source": [
    "## Chi2 test development"
   ]
  },
  {
   "cell_type": "code",
   "execution_count": 88,
   "metadata": {},
   "outputs": [
    {
     "data": {
      "text/plain": [
       "2.3499999999999996"
      ]
     },
     "execution_count": 88,
     "metadata": {},
     "output_type": "execute_result"
    }
   ],
   "source": [
    "chi2Calc = np.sum( (observedF - expectedF)**2 / expectedF )\n",
    "chi2Calc"
   ]
  },
  {
   "cell_type": "code",
   "execution_count": 89,
   "metadata": {},
   "outputs": [
    {
     "name": "stdout",
     "output_type": "stream",
     "text": [
      "criticVal:  12.591587243743977\n"
     ]
    }
   ],
   "source": [
    "criticVal = stats.chi2.ppf(q = 0.95, df = c-1)\n",
    "print(\"criticVal: \", criticVal)"
   ]
  },
  {
   "cell_type": "code",
   "execution_count": 90,
   "metadata": {},
   "outputs": [
    {
     "name": "stdout",
     "output_type": "stream",
     "text": [
      "pVal:  0.8848628827373295\n"
     ]
    }
   ],
   "source": [
    "pVal = 1 - stats.chi2.cdf(x=chi2Calc,  # Find the p-value\n",
    "                             df=c-1)\n",
    "print(\"pVal: \", pVal)"
   ]
  },
  {
   "cell_type": "markdown",
   "metadata": {},
   "source": [
    "## chi2 with Scipy"
   ]
  },
  {
   "cell_type": "code",
   "execution_count": 91,
   "metadata": {},
   "outputs": [
    {
     "data": {
      "text/plain": [
       "Power_divergenceResult(statistic=2.3499999999999996, pvalue=0.8848628827373295)"
      ]
     },
     "execution_count": 91,
     "metadata": {},
     "output_type": "execute_result"
    }
   ],
   "source": [
    "# c is the number of classes\n",
    "stats.chisquare( getOF(data, c, 1), getEF(c, data.size) )\n"
   ]
  },
  {
   "cell_type": "code",
   "execution_count": 92,
   "metadata": {},
   "outputs": [
    {
     "name": "stdout",
     "output_type": "stream",
     "text": [
      "criticVal:  12.591587243743977\n"
     ]
    }
   ],
   "source": [
    "criticVal = stats.chi2.ppf(q = 0.95, df = c-1)\n",
    "print(\"criticVal: \", criticVal)"
   ]
  },
  {
   "cell_type": "markdown",
   "metadata": {},
   "source": [
    "# Poker testing"
   ]
  },
  {
   "cell_type": "code",
   "execution_count": 93,
   "metadata": {},
   "outputs": [],
   "source": [
    "import numpy as np\n",
    "import pandas as pd\n",
    "import scipy.stats as stats\n",
    "import math\n"
   ]
  },
  {
   "cell_type": "markdown",
   "metadata": {},
   "source": [
    "## Classification"
   ]
  },
  {
   "cell_type": "markdown",
   "metadata": {},
   "source": [
    "Numbers are classified afther the number of repeated decimals they have.  \n",
    "For two decimals, numbers can have either 0 or 1 repetitions (if both decimals are equal)."
   ]
  },
  {
   "cell_type": "code",
   "execution_count": 94,
   "metadata": {},
   "outputs": [],
   "source": [
    "# areDecimalsEqual returns 1 if the first and second decimal places are equal\n",
    "def areDecimalsEqual(number):\n",
    "    firstDec = math.floor(number*1e1 % 10)\n",
    "    secondDec = math.floor(number*1e2 % 10)\n",
    "    if (firstDec == secondDec):\n",
    "        return 1\n",
    "    else:\n",
    "        return 0\n"
   ]
  },
  {
   "cell_type": "code",
   "execution_count": 95,
   "metadata": {},
   "outputs": [
    {
     "data": {
      "text/plain": [
       "array([1, 0, 1])"
      ]
     },
     "execution_count": 95,
     "metadata": {},
     "output_type": "execute_result"
    }
   ],
   "source": [
    "tArr = np.array([0.55, 0.32, 0.33])\n",
    "mapped = np.array(list(map(areDecimalsEqual, tArr)))\n",
    "mapped"
   ]
  },
  {
   "cell_type": "code",
   "execution_count": 96,
   "metadata": {},
   "outputs": [],
   "source": [
    "def mapEqualDecimals( dataArr ):\n",
    "    return np.array(list(map(areDecimalsEqual, dataArr)))"
   ]
  },
  {
   "cell_type": "code",
   "execution_count": 97,
   "metadata": {},
   "outputs": [],
   "source": [
    "classifiedData = mapEqualDecimals(data)"
   ]
  },
  {
   "cell_type": "code",
   "execution_count": 98,
   "metadata": {},
   "outputs": [
    {
     "name": "stdout",
     "output_type": "stream",
     "text": [
      "    0\n",
      "0  38\n",
      "1   2\n"
     ]
    }
   ],
   "source": [
    "# Observed frequencies:\n",
    "# OF[0] =: Numbers with different decimals\n",
    "# OF[1] =: Numbers with repeated decimals\n",
    "OF = pd.DataFrame([data.size - classifiedData.sum(), classifiedData.sum()])\n",
    "print(OF)"
   ]
  },
  {
   "cell_type": "markdown",
   "metadata": {},
   "source": [
    "Expected Frequencies:\n",
    "For two decimals, the probability of being equal is: $$(10*1) / (10*10)$$\n",
    "$$= 1/10 = 0.1$$\n",
    "Then, for $$40$$ values, the expected number of repetitions if $$4$$"
   ]
  },
  {
   "cell_type": "code",
   "execution_count": 99,
   "metadata": {},
   "outputs": [
    {
     "name": "stdout",
     "output_type": "stream",
     "text": [
      "    0\n",
      "0  36\n",
      "1   4\n"
     ]
    }
   ],
   "source": [
    "EF = pd.DataFrame([40-4, 4])\n",
    "print(EF)"
   ]
  },
  {
   "cell_type": "markdown",
   "metadata": {},
   "source": [
    "## Chi square test"
   ]
  },
  {
   "cell_type": "code",
   "execution_count": 100,
   "metadata": {},
   "outputs": [
    {
     "data": {
      "text/plain": [
       "Power_divergenceResult(statistic=array([1.11111111]), pvalue=array([0.29184055]))"
      ]
     },
     "execution_count": 100,
     "metadata": {},
     "output_type": "execute_result"
    }
   ],
   "source": [
    "# scipy way\n",
    "stats.chisquare(OF, EF)"
   ]
  },
  {
   "cell_type": "code",
   "execution_count": 101,
   "metadata": {},
   "outputs": [
    {
     "name": "stdout",
     "output_type": "stream",
     "text": [
      "chi2Calc:  1.1111111111111112\n"
     ]
    }
   ],
   "source": [
    "chi2Calc = ((OF - EF)**2 / EF).sum()\n",
    "print(\"chi2Calc: \", chi2Calc[0])"
   ]
  },
  {
   "cell_type": "code",
   "execution_count": 102,
   "metadata": {},
   "outputs": [
    {
     "name": "stdout",
     "output_type": "stream",
     "text": [
      "criticVal:  3.841458820694124\n"
     ]
    }
   ],
   "source": [
    "criticVal = stats.chi2.ppf(q = 0.95, df = 1)\n",
    "print(\"criticVal: \", criticVal)"
   ]
  },
  {
   "cell_type": "code",
   "execution_count": 103,
   "metadata": {},
   "outputs": [
    {
     "name": "stdout",
     "output_type": "stream",
     "text": [
      "p_value:  [0.29184055]\n"
     ]
    }
   ],
   "source": [
    "p_value = 1 - stats.chi2.cdf(x=chi2Calc,  # Find the p-value\n",
    "                             df=1)\n",
    "print(\"p_value: \", p_value)"
   ]
  },
  {
   "cell_type": "markdown",
   "metadata": {},
   "source": [
    "p_value is greater than 0.05, which is equivalent to say that \n",
    "our chi2Calc is less than the critical value criticVal, so the\n",
    "data set passes the poker test."
   ]
  },
  {
   "cell_type": "markdown",
   "metadata": {},
   "source": [
    "# Kolmogorov-smirnov"
   ]
  },
  {
   "cell_type": "code",
   "execution_count": 104,
   "metadata": {},
   "outputs": [],
   "source": [
    "import numpy as np\n",
    "import pandas as pd\n",
    "import scipy.stats as stats\n",
    "from math import sqrt, ceil, floor\n",
    "import random\n"
   ]
  },
  {
   "cell_type": "code",
   "execution_count": 105,
   "metadata": {},
   "outputs": [],
   "source": [
    "# n := Cantidad de números aleatorios\n",
    "# c := Cantidad de intervalos\n",
    "\n",
    "# e.g.\n",
    "# n =  1000\n",
    "# c = ceil(sqrt(n))\n",
    "# gl = n  # Grados de libertad\n",
    "\n",
    "def uniformePEA(n):\n",
    "    c = ceil(sqrt(n))\n",
    "    lis = np.array([1/c * (i + 1) for i in range(c)])\n",
    "    return lis"
   ]
  },
  {
   "cell_type": "code",
   "execution_count": 106,
   "metadata": {
    "colab": {
     "base_uri": "https://localhost:8080/"
    },
    "id": "39T_ig8VJaDL",
    "outputId": "ee5894c2-ad44-42b5-cd75-f6d463635188"
   },
   "outputs": [
    {
     "name": "stdout",
     "output_type": "stream",
     "text": [
      "[0.1 0.2 0.3 0.4 0.5 0.6 0.7 0.8 0.9 1. ]\n"
     ]
    }
   ],
   "source": [
    "lsU_PEA = uniformePEA(100)\n",
    "print(lsU_PEA)"
   ]
  },
  {
   "cell_type": "markdown",
   "metadata": {},
   "source": [
    "## classifyKS with nested for"
   ]
  },
  {
   "cell_type": "code",
   "execution_count": 107,
   "metadata": {
    "id": "gVnc0SyJkO7-"
   },
   "outputs": [],
   "source": [
    "def classifyKSWithNestedFor(data, maxVal):\n",
    "    n = len(data)\n",
    "    c = ceil(sqrt(n))\n",
    "    print(f\"c = {c}\")\n",
    "    freqList = np.zeros(c, dtype = int)\n",
    "    for i in range(n):\n",
    "        for j in range (0, c):\n",
    "            interv = c - 1\n",
    "            if (data[i] == maxVal):\n",
    "                freqList[c - 1] += 1\n",
    "                break\n",
    "            if (data[i] < ((j + 1) *(maxVal / c)) ): # Problemas con maxVal para < ; \n",
    "                                        # Se incluye el primer valor del siguiente intervalo para <=\n",
    "                freqList[j] += 1\n",
    "                break\n",
    "    return freqList"
   ]
  },
  {
   "cell_type": "code",
   "execution_count": 108,
   "metadata": {},
   "outputs": [
    {
     "name": "stdout",
     "output_type": "stream",
     "text": [
      "c = 4\n"
     ]
    },
    {
     "data": {
      "text/plain": [
       "array([1, 4, 2, 4])"
      ]
     },
     "execution_count": 108,
     "metadata": {},
     "output_type": "execute_result"
    }
   ],
   "source": [
    "tArr = np.array([0.55, 0.32, 0.333, 0.99, 0.05, 0.34, 0.25, 0.98, 0.56, 0.8, 1])\n",
    "classifyKSWithNestedFor(tArr, 1)"
   ]
  },
  {
   "cell_type": "markdown",
   "metadata": {},
   "source": [
    "## countFreqs, classifyKS"
   ]
  },
  {
   "cell_type": "code",
   "execution_count": 109,
   "metadata": {},
   "outputs": [],
   "source": [
    "def countFreqs(data, maxVal, c):\n",
    "    n = len(data)\n",
    "    freqList = np.zeros(c, dtype = int)\n",
    "    for i in range(n):\n",
    "        if (data[i] == maxVal):\n",
    "            freqList[c - 1] += 1\n",
    "        else:\n",
    "            freqList[floor( (data[i] * c / maxVal) )] += 1\n",
    "    return freqList"
   ]
  },
  {
   "cell_type": "code",
   "execution_count": 110,
   "metadata": {},
   "outputs": [
    {
     "data": {
      "text/plain": [
       "array([1, 4, 2, 4])"
      ]
     },
     "execution_count": 110,
     "metadata": {},
     "output_type": "execute_result"
    }
   ],
   "source": [
    "countFreqs(tArr, 1, ceil(sqrt(len(tArr))))"
   ]
  },
  {
   "cell_type": "code",
   "execution_count": 111,
   "metadata": {},
   "outputs": [],
   "source": [
    "# for c = ceil(sqrt(n))\n",
    "\n",
    "def classifyKS(data, maxVal):\n",
    "    n = len(data)\n",
    "    c = ceil(sqrt(n))\n",
    "    freqList = countFreqs(data, maxVal, c)\n",
    "    return freqList"
   ]
  },
  {
   "cell_type": "code",
   "execution_count": 112,
   "metadata": {},
   "outputs": [
    {
     "data": {
      "text/plain": [
       "array([1, 4, 2, 4])"
      ]
     },
     "execution_count": 112,
     "metadata": {},
     "output_type": "execute_result"
    }
   ],
   "source": [
    "classifyKS(tArr, 1)"
   ]
  },
  {
   "cell_type": "markdown",
   "metadata": {},
   "source": [
    "## dmCalc_kolmogorov_Smirnov"
   ]
  },
  {
   "cell_type": "code",
   "execution_count": 113,
   "metadata": {
    "id": "DTLOUolOJdPc"
   },
   "outputs": [],
   "source": [
    "# Calcula el DMcalc del test de Kolmogorov-Smirnov\n",
    "def dmCalc_kolmogorov_Smirnov(n, lisFO):\n",
    "    c = len(lisFO)\n",
    "    gl = n  # Grados de libertad\n",
    "\n",
    "    lisPEA = uniformePEA(n)\n",
    "\n",
    "    lisFOA = np.cumsum(lisFO)\n",
    "\n",
    "    lisPOA = list ( map ( lambda x: x / n , lisFOA ))\n",
    "\n",
    "    v1 = lisPEA[0]\n",
    "    v2 = lisPOA[0]\n",
    "\n",
    "    difs = np.abs(lisPEA - lisPOA)\n",
    "    d = round(difs.max(), 2)\n",
    "\n",
    "    return d"
   ]
  },
  {
   "cell_type": "code",
   "execution_count": 114,
   "metadata": {
    "colab": {
     "base_uri": "https://localhost:8080/"
    },
    "id": "CgAUPWByJ30p",
    "outputId": "c87f0626-c0e7-4423-e5d0-08743e11e6cf"
   },
   "outputs": [
    {
     "data": {
      "text/plain": [
       "0.04"
      ]
     },
     "execution_count": 114,
     "metadata": {},
     "output_type": "execute_result"
    }
   ],
   "source": [
    "foEj = [11, 6, 16, 9, 7, 11, 10, 9, 15, 6]  # Frecuencias Observadas de ejemplo visto en clase\n",
    "dmCalc_kolmogorov_Smirnov(100, foEj)  # Arroja el mismo valor para DMcalc obtenido en el ejemplo visto en clase"
   ]
  },
  {
   "cell_type": "code",
   "execution_count": 115,
   "metadata": {
    "id": "e79hmcZLKz9d"
   },
   "outputs": [],
   "source": [
    "# Genera un arreglo con observaciones para intervalos de diez enteros \n",
    "# en base a un arreglo de frecuencias observadas arrayFO\n",
    "def crearObservacioens(arrayFO):\n",
    "    ejObs = []\n",
    "    for i in range (len(arrayFO)):\n",
    "        for j in range(arrayFO[i]):\n",
    "            ejObs.append((10 * i) + random.randint(0,9))\n",
    "    return ejObs"
   ]
  },
  {
   "cell_type": "code",
   "execution_count": 116,
   "metadata": {
    "colab": {
     "base_uri": "https://localhost:8080/"
    },
    "id": "aDa796eSK_yq",
    "outputId": "44818ca4-c37c-4c77-e0c0-f51684dea235"
   },
   "outputs": [
    {
     "data": {
      "text/plain": [
       "100"
      ]
     },
     "execution_count": 116,
     "metadata": {},
     "output_type": "execute_result"
    }
   ],
   "source": [
    "ejObs = crearObservacioens(foEj)\n",
    "len(ejObs)"
   ]
  },
  {
   "cell_type": "markdown",
   "metadata": {},
   "source": [
    "## critValKolmogorov"
   ]
  },
  {
   "cell_type": "code",
   "execution_count": 117,
   "metadata": {
    "id": "zADAj02OLAy_"
   },
   "outputs": [],
   "source": [
    "# for a 0.01, 0.05 or 0.10 significance level\n",
    "def critValKolmogorov(n, significanceLevel):\n",
    "    if (significanceLevel == 0.01):\n",
    "        if (n > 20):\n",
    "            return 1.63 / sqrt(n)\n",
    "\n",
    "        elif (n == 5):\n",
    "            return 0.669\n",
    "        elif (n == 8):\n",
    "            return 0.543\n",
    "        elif (n == 10):\n",
    "            return 0.490\n",
    "        elif (n == 12):\n",
    "            return 0.450\n",
    "        elif (n == 15):\n",
    "            return 0.404\n",
    "        elif (n == 20):\n",
    "            return 0.356\n",
    "    elif (significanceLevel == 0.05):\n",
    "        if (n > 20):\n",
    "            return 1.36 / sqrt(n)\n",
    "\n",
    "        elif (n == 5):\n",
    "            return 0.565\n",
    "        elif (n == 8):\n",
    "            return 0.457\n",
    "        elif (n == 10):\n",
    "            return 0.410\n",
    "        elif (n == 12):\n",
    "            return 0.375\n",
    "        elif (n == 15):\n",
    "            return 0.338\n",
    "        elif (n == 20):\n",
    "            return 0.294\n",
    "    elif (significanceLevel == 0.10):\n",
    "        if (n > 20):\n",
    "            return 1.22 / sqrt(n)\n",
    "\n",
    "        elif (n == 5):\n",
    "            return 0.510\n",
    "        elif (n == 8):\n",
    "            return 0.411\n",
    "        elif (n == 10):\n",
    "            return 0.368\n",
    "        elif (n == 12):\n",
    "            return 0.338\n",
    "        elif (n == 15):\n",
    "            return 0.304\n",
    "        elif (n == 20):\n",
    "            return 0.264\n"
   ]
  },
  {
   "cell_type": "markdown",
   "metadata": {},
   "source": [
    "## kolmogorovTest"
   ]
  },
  {
   "cell_type": "code",
   "execution_count": 118,
   "metadata": {
    "colab": {
     "base_uri": "https://localhost:8080/"
    },
    "id": "HUgTNE6XUSEP",
    "outputId": "74c17cce-9679-4984-93f8-c60cf92df11c"
   },
   "outputs": [
    {
     "data": {
      "text/plain": [
       "True"
      ]
     },
     "execution_count": 118,
     "metadata": {},
     "output_type": "execute_result"
    }
   ],
   "source": [
    "# Funciona para los valores de n: {5, 8, 10, 12, 15, 20}, para n > 20 \n",
    "# y para una significancia de 0.01, 0.05 o 0.10 \n",
    "def kolmogorovTest(data, maxVal, significanceLevel):\n",
    "    n = len(data)\n",
    "    lisFo = classifyKS(data, maxVal)\n",
    "    dmCalc = dmCalc_kolmogorov_Smirnov(n, lisFo)\n",
    "    critVal = critValKolmogorov(n, significanceLevel)\n",
    "    if (dmCalc > critVal):\n",
    "        #print(\"Se rechaza la hipotesis nula\")\n",
    "        return False\n",
    "    else:\n",
    "        #print(\"No se rechaza la hipotesis nula\")\n",
    "        return True\n",
    "\n",
    "kolmogorovTest(data, max(data), 0.05) #Se prueba la funcion con una secuencia uniforme generada por la libreria numpy, dando como resultado que si pasa la prueba"
   ]
  }
 ],
 "metadata": {
  "kernelspec": {
   "display_name": "Python 3.9.12 ('base')",
   "language": "python",
   "name": "python3"
  },
  "language_info": {
   "codemirror_mode": {
    "name": "ipython",
    "version": 3
   },
   "file_extension": ".py",
   "mimetype": "text/x-python",
   "name": "python",
   "nbconvert_exporter": "python",
   "pygments_lexer": "ipython3",
   "version": "3.9.12"
  },
  "orig_nbformat": 4,
  "vscode": {
   "interpreter": {
    "hash": "66e37a4da3c390ba9102db785636e2db61d518923b2ca2e4091350072f76ee72"
   }
  }
 },
 "nbformat": 4,
 "nbformat_minor": 2
}
