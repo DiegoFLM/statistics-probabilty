{
  "cells": [
    {
      "cell_type": "markdown",
      "metadata": {
        "id": "MfkfDYW6bBPs"
      },
      "source": [
        "# Primer examen parcial (parte práctica)"
      ]
    },
    {
      "cell_type": "markdown",
      "metadata": {
        "id": "tph6IJk_bW_x"
      },
      "source": [
        "Instrucciones:\n",
        "* Haga una copia de este notebook a su drive (File -> Save a copy in drive)\n",
        "* Cree una celda inicial, con las funciones que requiera.\n",
        "* Para cada punto, ejecute los algoritmos , muestre los resultados y escriba la respuesta."
      ]
    },
    {
      "cell_type": "markdown",
      "metadata": {},
      "source": [
        "# Funciones"
      ]
    },
    {
      "cell_type": "code",
      "execution_count": 125,
      "metadata": {
        "id": "n9_WodZFm90G"
      },
      "outputs": [],
      "source": [
        "import numpy as np\n",
        "import pandas as pd\n",
        "import scipy.stats as stats\n",
        "import math\n",
        "import seaborn as sns\n",
        "import matplotlib.pyplot as plt"
      ]
    },
    {
      "cell_type": "code",
      "execution_count": 126,
      "metadata": {},
      "outputs": [],
      "source": [
        "def normalize(lis, max):\n",
        "    return np.array([i/max for i in lis])"
      ]
    },
    {
      "cell_type": "markdown",
      "metadata": {},
      "source": [
        "## Chi Cuadrado"
      ]
    },
    {
      "cell_type": "code",
      "execution_count": 127,
      "metadata": {},
      "outputs": [],
      "source": [
        "def getOF( dataArr, c , maxVal):\n",
        "    dataArr = np.sort(dataArr)\n",
        "    delta = maxVal / c\n",
        "    of = np.zeros( c , dtype=int)\n",
        "\n",
        "    index = 0\n",
        "    for i in range( c ):\n",
        "        while dataArr[index] <= (i+1)*delta:\n",
        "            of[i] += 1\n",
        "            index += 1\n",
        "            if index >= dataArr.size:\n",
        "                break\n",
        "    return of"
      ]
    },
    {
      "cell_type": "code",
      "execution_count": 128,
      "metadata": {},
      "outputs": [],
      "source": [
        "def getEF( c , n):\n",
        "    ef = np.array( [n/c] * c )\n",
        "    return ef"
      ]
    },
    {
      "cell_type": "code",
      "execution_count": 129,
      "metadata": {},
      "outputs": [],
      "source": [
        "def chi2Test(data, alpha):\n",
        "    maxVal = np.max(data)\n",
        "    c = math.ceil( math.sqrt(data.size) )\n",
        "    observedFreq = getOF( data, c , maxVal)\n",
        "    expectedFreq = getEF( c , data.size)\n",
        "    chi2Calc = np.sum( (observedFreq - expectedFreq)**2 / expectedFreq )\n",
        "    criticVal = stats.chi2.ppf(q = 1-alpha, df = c-1)\n",
        "    print(\"Chi2 Calculado: \", chi2Calc)\n",
        "    print(\"Chi2 Critico: \", criticVal)\n",
        "    if (chi2Calc > criticVal):\n",
        "        print(\"Se rechaza la hipótesis nula\")\n",
        "        return False\n",
        "    else:\n",
        "        print(\"No se rechaza la hipótesis nula\")\n",
        "        return True\n"
      ]
    },
    {
      "cell_type": "markdown",
      "metadata": {},
      "source": [
        "## Series"
      ]
    },
    {
      "cell_type": "code",
      "execution_count": 130,
      "metadata": {},
      "outputs": [],
      "source": [
        "# Asumiendo que num pertenece al rango [start, end], y que dicho rango\n",
        "# está dividido en L intervalos, devuelve el número de intervalo.\n",
        "# Los intervalos se enumeran desde 0 hasta L-1.\n",
        "# siendo el intervalo [0.1,0.2) el intervalo 1, para start = 0, end = 1, L = 10.\n",
        "# El último intervalo es cerrado en ambos extremos, y los demás son cerrados\n",
        "# en el extremo inferior y abiertos en el extremo superior.\n",
        "def getInterval(start, end, L, num):\n",
        "    if (num > end):\n",
        "        print(\"Error: número fuera de rango\")\n",
        "        return\n",
        "\n",
        "    intervalSize = (end - start) / L\n",
        "    interval = math.floor((num - start) / intervalSize)\n",
        "    if (interval == L):\n",
        "        interval = L - 1\n",
        "    #print(f\"num: {num}\")\n",
        "    #print(f\"IntervalSize: {intervalSize}\")\n",
        "    #print(f\"Interval: {interval}\")\n",
        "    return interval"
      ]
    },
    {
      "cell_type": "code",
      "execution_count": 131,
      "metadata": {},
      "outputs": [],
      "source": [
        "# k := Cantidad de dimensiones\n",
        "def obsFreqMatrixSeries(datos, start, maxVal, k):\n",
        "    #print(f\"datos : {datos}\")\n",
        "    datos = normalize(datos.copy(), maxVal)\n",
        "    #print(f\"datos normalizados: {datos}\")\n",
        "    n = len(datos)\n",
        "    g = int(n / k)       # Cantidad de grupos (tuplas)\n",
        "    #c = ceil(sqrt(g))   # Cantidad de clases\n",
        "    intervs = math.ceil( pow( g, 1/(2*k) ) )  # Cantidad de intervalos para cada dimensión\n",
        "    print(f\"intervs: {intervs}\")\n",
        "    obsFreqs = np.zeros((intervs ** (k - 1),intervs), dtype=int)   \n",
        "    \n",
        "    for i in range (g):\n",
        "        #col = getIntervalSeries(intervs, datos[i * k + (k - 1)])\n",
        "        col = getInterval(start, maxVal, intervs, datos[i * k + (k - 1)])\n",
        "        row = 0\n",
        "        for dim in range (k - 1):\n",
        "            row += getInterval(start, maxVal, intervs, datos[i * k + dim]) * (intervs ** (k - dim - 2))\n",
        "        obsFreqs[row][col] += 1\n",
        "    return obsFreqs"
      ]
    },
    {
      "cell_type": "code",
      "execution_count": 160,
      "metadata": {},
      "outputs": [],
      "source": [
        "# k := Cantidad de dimensiones\n",
        "def testSeries(datos, maxVal, k, significanceLevel):\n",
        "    datos = normalize(datos.copy(), np.max(datos))\n",
        "    maxVal = 1\n",
        "\n",
        "    \n",
        "    conf = 1 - significanceLevel\n",
        "    n = len(datos)\n",
        "    g = int(n / k)       # Cantidad de grupos (tuplas)\n",
        "    intervs = math.ceil( pow( g, 1/(2*k) ) )  # Cantidad de intervalos para cada dimensión\n",
        "    print(f\"intervs = {intervs}\")\n",
        "    obsMatrix = obsFreqMatrixSeries(datos, 0, maxVal, k)\n",
        "    print(\"Matriz de frecuencias observadas:\")\n",
        "    print(obsMatrix)\n",
        "\n",
        "    # Expected frequency:\n",
        "    ef = g / (intervs ** k)\n",
        "    print(f\"ef = {ef}\")\n",
        "    \n",
        "    finalMatrix = ((ef - obsMatrix)**2) / ef\n",
        "    print(f\"finalMatrix: {finalMatrix}\")\n",
        "\n",
        "    # Valor calculado para la prueba de Chi cuadrado\n",
        "    calculated = np.sum(finalMatrix)\n",
        "\n",
        "    freedomDegrees = (intervs ** k) - 1\n",
        "\n",
        "    # Prueba de Chi2 directa entre obsMatrix y una matriz con los valores esperados.\n",
        "    chi2Result = stats.chisquare( obsMatrix.reshape(intervs**k), np.full((intervs ** k), ef) )\n",
        "    #print( f\"Chi2 directa: {chi2Result}\" )\n",
        "    #print ((1-chi2Result[1]) < conf)\n",
        "\n",
        "    # \n",
        "    # Valor crítico\n",
        "    criticVal = stats.chi2.ppf(conf, freedomDegrees)\n",
        "\n",
        "    # resultado manual\n",
        "    print(\"Valor calculado: \", calculated) \n",
        "    print(\"Valor crítico: \", criticVal)\n",
        "    return calculated <= criticVal"
      ]
    },
    {
      "cell_type": "markdown",
      "metadata": {},
      "source": [
        "## Kolmogorov-smirnov"
      ]
    },
    {
      "cell_type": "code",
      "execution_count": 133,
      "metadata": {},
      "outputs": [],
      "source": [
        "# n := Cantidad de números aleatorios\n",
        "# c := Cantidad de intervalos\n",
        "\n",
        "def uniformePEA(n):\n",
        "    c = math.ceil(math.sqrt(n))\n",
        "    lis = np.array([1/c * (i + 1) for i in range(c)])\n",
        "    return lis"
      ]
    },
    {
      "cell_type": "code",
      "execution_count": 134,
      "metadata": {},
      "outputs": [],
      "source": [
        "def countFreqs(data, maxVal, c):\n",
        "    n = len(data)\n",
        "    freqList = np.zeros(c, dtype = int)\n",
        "    for i in range(n):\n",
        "        if (data[i] == maxVal):\n",
        "            freqList[c - 1] += 1\n",
        "        else:\n",
        "            freqList[math.floor( (data[i] * c / maxVal) )] += 1\n",
        "    return freqList"
      ]
    },
    {
      "cell_type": "code",
      "execution_count": 135,
      "metadata": {},
      "outputs": [],
      "source": [
        "def classifyKS(data, maxVal):\n",
        "    n = len(data)\n",
        "    c = math.ceil(math.sqrt(n))\n",
        "    freqList = countFreqs(data, maxVal, c)\n",
        "    return freqList"
      ]
    },
    {
      "cell_type": "code",
      "execution_count": 136,
      "metadata": {},
      "outputs": [],
      "source": [
        "# Calcula el DMcalc del test de Kolmogorov-Smirnov\n",
        "def dmCalc_kolmogorov_Smirnov(n, lisFO):\n",
        "    c = len(lisFO)\n",
        "    gl = n  # Grados de libertad\n",
        "\n",
        "    lisPEA = uniformePEA(n)\n",
        "\n",
        "    lisFOA = np.cumsum(lisFO)\n",
        "\n",
        "    lisPOA = list ( map ( lambda x: x / n , lisFOA ))\n",
        "\n",
        "    v1 = lisPEA[0]\n",
        "    v2 = lisPOA[0]\n",
        "\n",
        "    difs = np.abs(lisPEA - lisPOA)\n",
        "    d = round(difs.max(), 2)\n",
        "\n",
        "    return d"
      ]
    },
    {
      "cell_type": "code",
      "execution_count": 137,
      "metadata": {},
      "outputs": [],
      "source": [
        "# for a 0.01, 0.05 or 0.10 significance level\n",
        "def critValKolmogorov(n, significanceLevel):\n",
        "    if (significanceLevel == 0.01):\n",
        "        if (n > 20):\n",
        "            return 1.63 / math.sqrt(n)\n",
        "\n",
        "        elif (n == 5):\n",
        "            return 0.669\n",
        "        elif (n == 8):\n",
        "            return 0.543\n",
        "        elif (n == 10):\n",
        "            return 0.490\n",
        "        elif (n == 12):\n",
        "            return 0.450\n",
        "        elif (n == 15):\n",
        "            return 0.404\n",
        "        elif (n == 20):\n",
        "            return 0.356\n",
        "    elif (significanceLevel == 0.05):\n",
        "        if (n > 20):\n",
        "            return 1.36 / math.sqrt(n)\n",
        "\n",
        "        elif (n == 5):\n",
        "            return 0.565\n",
        "        elif (n == 8):\n",
        "            return 0.457\n",
        "        elif (n == 10):\n",
        "            return 0.410\n",
        "        elif (n == 12):\n",
        "            return 0.375\n",
        "        elif (n == 15):\n",
        "            return 0.338\n",
        "        elif (n == 20):\n",
        "            return 0.294\n",
        "    elif (significanceLevel == 0.10):\n",
        "        if (n > 20):\n",
        "            return 1.22 / math.sqrt(n)\n",
        "\n",
        "        elif (n == 5):\n",
        "            return 0.510\n",
        "        elif (n == 8):\n",
        "            return 0.411\n",
        "        elif (n == 10):\n",
        "            return 0.368\n",
        "        elif (n == 12):\n",
        "            return 0.338\n",
        "        elif (n == 15):\n",
        "            return 0.304\n",
        "        elif (n == 20):\n",
        "            return 0.264"
      ]
    },
    {
      "cell_type": "code",
      "execution_count": 138,
      "metadata": {},
      "outputs": [],
      "source": [
        "# Funciona para los valores de n: {5, 8, 10, 12, 15, 20}, para n > 20 \n",
        "# y para una significancia de 0.01, 0.05 o 0.10 \n",
        "def kolmogorovTest(data, maxVal, significanceLevel):\n",
        "    n = len(data)\n",
        "    lisFo = classifyKS(data, maxVal)\n",
        "    dmCalc = dmCalc_kolmogorov_Smirnov(n, lisFo)\n",
        "    critVal = critValKolmogorov(n, significanceLevel)\n",
        "    print(f\"dmCalc = {dmCalc}\")\n",
        "    print(f\"critVal = {critVal}\")\n",
        "    if (dmCalc > critVal):\n",
        "        #print(\"Se rechaza la hipotesis nula\")\n",
        "        return False\n",
        "    else:\n",
        "        #print(\"No se rechaza la hipotesis nula\")\n",
        "        return True"
      ]
    },
    {
      "cell_type": "markdown",
      "metadata": {},
      "source": [
        "## Transformada Inversa"
      ]
    },
    {
      "cell_type": "code",
      "execution_count": 139,
      "metadata": {},
      "outputs": [],
      "source": [
        "def getCumulativeProbDist(data):\n",
        "    sortedData = data.copy()\n",
        "    sortedData.sort()\n",
        "    uniques, counts = np.unique(sortedData, return_counts=True)\n",
        "    cumProbability = np.array([uniques, counts.cumsum() / data.size]).T\n",
        "    return cumProbability"
      ]
    },
    {
      "cell_type": "code",
      "execution_count": 140,
      "metadata": {},
      "outputs": [],
      "source": [
        "def getCumProb(num, cumProbabilityDist):\n",
        "    for i in range (cumProbabilityDist.shape[0]):\n",
        "        #print(cumProbabilityDist[i][0], cumProbabilityDist[i][1])\n",
        "        if num == cumProbabilityDist[i,0]:\n",
        "            return cumProbabilityDist[i,1]\n",
        "    print(\"Error: number not found in distribution\")\n",
        "    return"
      ]
    },
    {
      "cell_type": "code",
      "execution_count": 141,
      "metadata": {},
      "outputs": [],
      "source": [
        "def inverTransform(cumProb, discreteCumDist):\n",
        "    if (cumProb < 0 or cumProb > 1):\n",
        "        print(\"Probability must be between 0 and 1\")\n",
        "        return\n",
        "    elif (cumProb == 1):\n",
        "        return discreteCumDist[len(discreteCumDist)-1,0]\n",
        "    else:\n",
        "        for i in range (discreteCumDist[:,1].size):\n",
        "            #print(discreteCumDist[i,1])\n",
        "            if cumProb <= discreteCumDist[i,1]:\n",
        "                return discreteCumDist[i,0]"
      ]
    },
    {
      "cell_type": "markdown",
      "metadata": {},
      "source": [
        "## Generación secuencia exponencial"
      ]
    },
    {
      "cell_type": "code",
      "execution_count": 142,
      "metadata": {},
      "outputs": [],
      "source": [
        "def transformToExponencial(data, lamb):\n",
        "    return list(map(lambda x: -math.log(x)/lamb, data))"
      ]
    },
    {
      "cell_type": "markdown",
      "metadata": {},
      "source": [
        "# Examen"
      ]
    },
    {
      "cell_type": "markdown",
      "metadata": {
        "id": "WxoecFgrXTRY"
      },
      "source": [
        "Considere los siguientes datos que se encuentran en una\n",
        "distribución uniforme discreta entre 0 y 8\n",
        "\n",
        "\n",
        "5 8 4 7 8 2 4 4 3 5 6 7 8 4 8 7 3 4 5 6\n",
        "3 5 6 1 2 3 2 5 6 7 8 7 1 5 6 7 3 4 2 0\n",
        "3 2 0 0 1 0 2 1 3 4 4 6 7 1 0 8 8 3 1 0\n",
        "1 4 7 2 1 4 7 5 6 7 2 4 8 6 7 5 8 2 1 6\n",
        "4 5 1 2 4 0 2 7 1 6 7 0 8 1 5 4 6 1 4 3\n",
        "\n"
      ]
    },
    {
      "cell_type": "code",
      "execution_count": 143,
      "metadata": {},
      "outputs": [
        {
          "data": {
            "text/plain": [
              "100"
            ]
          },
          "execution_count": 143,
          "metadata": {},
          "output_type": "execute_result"
        }
      ],
      "source": [
        "data = np.array([5, 8, 4, 7, 8, 2, 4, 4, 3, 5, 6, 7, 8, 4, 8, 7, 3, 4, 5, 6,\n",
        "3, 5, 6, 1, 2, 3, 2, 5, 6, 7, 8, 7, 1, 5, 6, 7, 3, 4, 2, 0,\n",
        "3, 2, 0, 0, 1, 0, 2, 1, 3, 4, 4, 6, 7, 1, 0, 8, 8, 3, 1, 0,\n",
        "1, 4, 7, 2, 1, 4, 7, 5, 6, 7, 2, 4, 8, 6, 7, 5, 8, 2, 1, 6,\n",
        "4, 5, 1, 2, 4, 0, 2, 7, 1, 6, 7, 0, 8, 1, 5, 4, 6, 1, 4, 3])\n",
        "data.size"
      ]
    },
    {
      "cell_type": "code",
      "execution_count": 144,
      "metadata": {},
      "outputs": [
        {
          "data": {
            "text/plain": [
              "8"
            ]
          },
          "execution_count": 144,
          "metadata": {},
          "output_type": "execute_result"
        }
      ],
      "source": [
        "np.max(data)"
      ]
    },
    {
      "cell_type": "markdown",
      "metadata": {
        "id": "KbTseY9PXaX9"
      },
      "source": [
        "1. Aplique una prueba de chi-cuadrado con $\\alpha = 0.05$"
      ]
    },
    {
      "cell_type": "code",
      "execution_count": 145,
      "metadata": {
        "id": "5wT3YopnnE6e"
      },
      "outputs": [
        {
          "name": "stdout",
          "output_type": "stream",
          "text": [
            "Chi2 Calculado:  15.0\n",
            "Chi2 Critico:  16.918977604620448\n",
            "No se rechaza la hipótesis nula\n"
          ]
        },
        {
          "data": {
            "text/plain": [
              "True"
            ]
          },
          "execution_count": 145,
          "metadata": {},
          "output_type": "execute_result"
        }
      ],
      "source": [
        "alpha = 0.05\n",
        "chi2Test(data, alpha)"
      ]
    },
    {
      "cell_type": "markdown",
      "metadata": {},
      "source": [
        "Los datos pasan la prueba de chi-cuadrado"
      ]
    },
    {
      "cell_type": "markdown",
      "metadata": {
        "id": "V8lg90RtXdI-"
      },
      "source": [
        "2. Aplique una prueba de series de dos dimensiones con $\\alpha = 0.1$"
      ]
    },
    {
      "cell_type": "code",
      "execution_count": 165,
      "metadata": {},
      "outputs": [
        {
          "data": {
            "text/plain": [
              "8"
            ]
          },
          "execution_count": 165,
          "metadata": {},
          "output_type": "execute_result"
        }
      ],
      "source": [
        "np.max(data)"
      ]
    },
    {
      "cell_type": "code",
      "execution_count": 167,
      "metadata": {
        "id": "1Qa-A3BInFhJ"
      },
      "outputs": [
        {
          "name": "stdout",
          "output_type": "stream",
          "text": [
            "intervs = 3\n",
            "intervs: 3\n",
            "Matriz de frecuencias observadas:\n",
            "[[6 6 4]\n",
            " [2 9 4]\n",
            " [8 4 7]]\n",
            "ef = 5.555555555555555\n",
            "finalMatrix: [[0.03555556 0.03555556 0.43555556]\n",
            " [2.27555556 2.13555556 0.43555556]\n",
            " [1.07555556 0.43555556 0.37555556]]\n",
            "Valor calculado:  7.24\n",
            "Valor crítico:  13.36156613651173\n"
          ]
        },
        {
          "data": {
            "text/plain": [
              "True"
            ]
          },
          "execution_count": 167,
          "metadata": {},
          "output_type": "execute_result"
        }
      ],
      "source": [
        "testSeries(data, np.max(data), 2, 0.1)"
      ]
    },
    {
      "cell_type": "markdown",
      "metadata": {},
      "source": [
        "Los datos pasan el test de series"
      ]
    },
    {
      "cell_type": "markdown",
      "metadata": {
        "id": "04HitMQ4aa93"
      },
      "source": [
        "3. Aplique una prueba de Kolmogorov-Smirvov con confianza $\\alpha = 0.05$"
      ]
    },
    {
      "cell_type": "code",
      "execution_count": 148,
      "metadata": {
        "id": "Pn2itosHnGcY"
      },
      "outputs": [
        {
          "name": "stdout",
          "output_type": "stream",
          "text": [
            "dmCalc = 0.09\n",
            "critVal = 0.136\n"
          ]
        },
        {
          "data": {
            "text/plain": [
              "True"
            ]
          },
          "execution_count": 148,
          "metadata": {},
          "output_type": "execute_result"
        }
      ],
      "source": [
        "kolmogorovTest(data, np.max(data), 0.05) \n",
        "#Se prueba la funcion con una secuencia uniforme generada por la libreria numpy, dando como resultado que si pasa la prueba"
      ]
    },
    {
      "cell_type": "markdown",
      "metadata": {},
      "source": [
        "Los datos pasan el test de Kolmogorov-Smirnov"
      ]
    },
    {
      "cell_type": "markdown",
      "metadata": {
        "id": "UNBvYKUzX3U0"
      },
      "source": [
        "4. Bajo el método de la transformación inversa, transforme el conjunto dado a la\n",
        "siguiente distribución discreta:\n",
        "\n",
        "| **vi** | **pi** |\n",
        "| --- | --- |\n",
        "| 0 | 0.1 |\n",
        "| 2 | 0.3 |\n",
        "| 3 | 0.05 |\n",
        "| 4 | 0.1 |\n",
        "| 7 | 0.15 |\n",
        "| 9 | 0.1 |\n",
        "| 10 | 0.05 | \n",
        "| 13 | 0.05 |\n",
        "| 15 | 0.1 |\n",
        "\n"
      ]
    },
    {
      "cell_type": "code",
      "execution_count": 149,
      "metadata": {
        "id": "24vRn974pIup"
      },
      "outputs": [
        {
          "data": {
            "text/plain": [
              "array([[ 0.  ,  0.1 ],\n",
              "       [ 2.  ,  0.3 ],\n",
              "       [ 3.  ,  0.05],\n",
              "       [ 4.  ,  0.1 ],\n",
              "       [ 7.  ,  0.15],\n",
              "       [ 9.  ,  0.1 ],\n",
              "       [10.  ,  0.05],\n",
              "       [13.  ,  0.05],\n",
              "       [15.  ,  0.1 ]])"
            ]
          },
          "execution_count": 149,
          "metadata": {},
          "output_type": "execute_result"
        }
      ],
      "source": [
        "discreteDist = np.array([[0, 2, 3, 4, 7, 9, 10, 13, 15], \n",
        "                        [0.1, 0.3, 0.05, 0.1, 0.15, 0.1, 0.05, 0.05, 0.1]]).T\n",
        "discreteDist"
      ]
    },
    {
      "cell_type": "code",
      "execution_count": 150,
      "metadata": {},
      "outputs": [
        {
          "data": {
            "text/plain": [
              "array([[0.  , 0.08],\n",
              "       [1.  , 0.21],\n",
              "       [2.  , 0.32],\n",
              "       [3.  , 0.41],\n",
              "       [4.  , 0.56],\n",
              "       [5.  , 0.66],\n",
              "       [6.  , 0.77],\n",
              "       [7.  , 0.9 ],\n",
              "       [8.  , 1.  ]])"
            ]
          },
          "execution_count": 150,
          "metadata": {},
          "output_type": "execute_result"
        }
      ],
      "source": [
        "cumProbability = getCumulativeProbDist(data)\n",
        "cumProbability"
      ]
    },
    {
      "cell_type": "code",
      "execution_count": 151,
      "metadata": {},
      "outputs": [
        {
          "data": {
            "text/plain": [
              "array([[ 0.  ,  0.1 ],\n",
              "       [ 2.  ,  0.4 ],\n",
              "       [ 3.  ,  0.45],\n",
              "       [ 4.  ,  0.55],\n",
              "       [ 7.  ,  0.7 ],\n",
              "       [ 9.  ,  0.8 ],\n",
              "       [10.  ,  0.85],\n",
              "       [13.  ,  0.9 ],\n",
              "       [15.  ,  1.  ]])"
            ]
          },
          "execution_count": 151,
          "metadata": {},
          "output_type": "execute_result"
        }
      ],
      "source": [
        "discreteCumulativeProb = np.array([discreteDist[:,0], discreteDist[:,1].cumsum()]).T\n",
        "discreteCumulativeProb"
      ]
    },
    {
      "cell_type": "code",
      "execution_count": 152,
      "metadata": {},
      "outputs": [
        {
          "data": {
            "text/plain": [
              "100"
            ]
          },
          "execution_count": 152,
          "metadata": {},
          "output_type": "execute_result"
        }
      ],
      "source": [
        "cumProbsDataOriginalOrder = np.array(list(map(lambda x: getCumProb(x, cumProbability), data)))\n",
        "cumProbsDataOriginalOrder.size"
      ]
    },
    {
      "cell_type": "code",
      "execution_count": 153,
      "metadata": {},
      "outputs": [
        {
          "data": {
            "text/plain": [
              "array([ 7, 15,  7, 13, 15,  2,  7,  7,  3,  7,  9, 13, 15,  7, 15, 13,  3,\n",
              "        7,  7,  9,  3,  7,  9,  2,  2,  3,  2,  7,  9, 13, 15, 13,  2,  7,\n",
              "        9, 13,  3,  7,  2,  0,  3,  2,  0,  0,  2,  0,  2,  2,  3,  7,  7,\n",
              "        9, 13,  2,  0, 15, 15,  3,  2,  0,  2,  7, 13,  2,  2,  7, 13,  7,\n",
              "        9, 13,  2,  7, 15,  9, 13,  7, 15,  2,  2,  9,  7,  7,  2,  2,  7,\n",
              "        0,  2, 13,  2,  9, 13,  0, 15,  2,  7,  7,  9,  2,  7,  3])"
            ]
          },
          "execution_count": 153,
          "metadata": {},
          "output_type": "execute_result"
        }
      ],
      "source": [
        "transformedData = np.array(list(map(lambda x: inverTransform(x, discreteCumulativeProb), \n",
        "                cumProbsDataOriginalOrder)), dtype=int)\n",
        "transformedData"
      ]
    },
    {
      "cell_type": "markdown",
      "metadata": {
        "id": "3Pfzm-uJaBY2"
      },
      "source": [
        "5. Se desea usar los siguientes 30 números aleatorios para una simulación de una variable aleatoria exponencial con parámetro λ=3. Generar la secuencia de numeros bajo la distribución exponencial. (si puede mostrar la gráfica para verificar que es exponencial)"
      ]
    },
    {
      "cell_type": "markdown",
      "metadata": {
        "id": "46deBXpCZ8bb"
      },
      "source": [
        "\n",
        "![Captura.PNG](data:image/png;base64,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)\n",
        "---\n",
        "\n"
      ]
    },
    {
      "cell_type": "code",
      "execution_count": 154,
      "metadata": {
        "id": "b2Je5a46nJrI"
      },
      "outputs": [
        {
          "data": {
            "text/plain": [
              "array([0.844, 0.762, 0.496, 0.862, 0.883, 0.383, 0.818, 0.77 , 0.913,\n",
              "       0.6  , 0.819, 0.889, 0.508, 0.318, 0.798, 0.762, 0.451, 0.281,\n",
              "       0.402, 0.857, 0.7  , 0.638, 0.545, 0.657, 0.421, 0.73 , 0.686,\n",
              "       0.979, 0.71 , 0.764])"
            ]
          },
          "execution_count": 154,
          "metadata": {},
          "output_type": "execute_result"
        }
      ],
      "source": [
        "dataSimulacionExp = np.array(  [0.844, 0.762, 0.496, 0.862, 0.883, 0.383, 0.818, 0.77,  0.913, 0.6,\n",
        "                                0.819, 0.889, 0.508, 0.318, 0.798, 0.762, 0.451, 0.281, 0.402, 0.857,\n",
        "                                0.7,   0.638, 0.545, 0.657, 0.421, 0.73,  0.686, 0.979, 0.71,  0.764])\n",
        "dataSimulacionExp"
      ]
    },
    {
      "cell_type": "code",
      "execution_count": 155,
      "metadata": {},
      "outputs": [
        {
          "data": {
            "text/plain": [
              "[0.05653426146206,\n",
              " 0.0906029077651636,\n",
              " 0.2337264507524032,\n",
              " 0.049500002772814654,\n",
              " 0.04147669279272568,\n",
              " 0.31990676326716366,\n",
              " 0.06696431412646335,\n",
              " 0.08712158804480251,\n",
              " 0.030339799462389516,\n",
              " 0.1702752079219969,\n",
              " 0.06655706504302257,\n",
              " 0.03921934782274415,\n",
              " 0.22575794380121839,\n",
              " 0.3819012987339867,\n",
              " 0.07521556051077607,\n",
              " 0.0906029077651636,\n",
              " 0.26542931315981955,\n",
              " 0.42313353654946373,\n",
              " 0.30376773012103864,\n",
              " 0.0514391201281191,\n",
              " 0.11889164797957748,\n",
              " 0.14980566521244906,\n",
              " 0.20232316143963094,\n",
              " 0.1400237534991755,\n",
              " 0.2883741484332519,\n",
              " 0.10490358161323342,\n",
              " 0.12562588375208392,\n",
              " 0.007074545483875563,\n",
              " 0.114163436315592,\n",
              " 0.08972916327187218]"
            ]
          },
          "execution_count": 155,
          "metadata": {},
          "output_type": "execute_result"
        }
      ],
      "source": [
        "expData = transformToExponencial(dataSimulacionExp, 3)\n",
        "expData"
      ]
    },
    {
      "cell_type": "code",
      "execution_count": 168,
      "metadata": {},
      "outputs": [
        {
          "data": {
            "image/png": "[encoded data removed]",
            "text/plain": [
              "<Figure size 432x288 with 1 Axes>"
            ]
          },
          "metadata": {
            "needs_background": "light"
          },
          "output_type": "display_data"
        }
      ],
      "source": [
        "# scatter plot with axis labels\n",
        "sns.scatterplot(x=expData, y=dataSimulacionExp)\n",
        "plt.xlabel('expData')\n",
        "plt.ylabel('dataSimulacionExp')\n",
        "plt.title('Generación de secuencia exponencial')\n",
        "plt.show()\n"
      ]
    }
  ],
  "metadata": {
    "colab": {
      "provenance": []
    },
    "kernelspec": {
      "display_name": "Python 3.9.12 ('base')",
      "language": "python",
      "name": "python3"
    },
    "language_info": {
      "codemirror_mode": {
        "name": "ipython",
        "version": 3
      },
      "file_extension": ".py",
      "mimetype": "text/x-python",
      "name": "python",
      "nbconvert_exporter": "python",
      "pygments_lexer": "ipython3",
      "version": "3.9.12"
    },
    "vscode": {
      "interpreter": {
        "hash": "66e37a4da3c390ba9102db785636e2db61d518923b2ca2e4091350072f76ee72"
      }
    }
  },
  "nbformat": 4,
  "nbformat_minor": 0
}
